{
 "cells": [
  {
   "cell_type": "markdown",
   "metadata": {
    "application/vnd.databricks.v1+cell": {
     "cellMetadata": {},
     "inputWidgets": {},
     "nuid": "47b2a9a2-4223-4001-a0ac-48e9a722fb43",
     "showTitle": false,
     "tableResultSettingsMap": {},
     "title": ""
    }
   },
   "source": [
    "**Module 3: DataFrames and Datasets**\n",
    "\n",
    "### Understanding DataFrames and Datasets\n",
    "\n",
    "**1. What is a Schema?**\n",
    "A schema defines the structure of a dataset, specifying the column names, data types, and constraints. It ensures that the data adheres to a predefined format, enabling consistency and compatibility across processing workflows.\n",
    "\n",
    "- **Benefits of Schema:**\n",
    "  - Enforces data integrity and validation.\n",
    "  - Enables query optimization.\n",
    "  - Facilitates compatibility with downstream applications.\n",
    "\n",
    "*Example*: Viewing the schema of a DataFrame:"
   ]
  },
  {
   "cell_type": "markdown",
   "metadata": {
    "application/vnd.databricks.v1+cell": {
     "cellMetadata": {},
     "inputWidgets": {},
     "nuid": "829d4a8e-4f73-47c8-abaa-c0ec3027feae",
     "showTitle": false,
     "tableResultSettingsMap": {},
     "title": ""
    }
   },
   "source": [
    "**2. DataFrames**\n",
    "A DataFrame is a distributed collection of data organized into named columns, similar to a table in a relational database. It is designed to support both structured and semi-structured data processing.\n",
    "\n",
    "- **Key Features of DataFrames:**\n",
    "  - Schema-based processing.\n",
    "  - Lazy evaluation for efficient execution.\n",
    "  - Catalyst optimizer for query planning.\n",
    "  - Multi-language support: Python, Scala, SQL, R.\n",
    "\n",
    "*Example*: Loading a JSON dataset:"
   ]
  },
  {
   "cell_type": "code",
   "execution_count": 0,
   "metadata": {
    "application/vnd.databricks.v1+cell": {
     "cellMetadata": {
      "byteLimit": 2048000,
      "rowLimit": 10000
     },
     "inputWidgets": {},
     "nuid": "87fb8d94-2144-4cf8-8cd6-cf1013f3aef3",
     "showTitle": false,
     "tableResultSettingsMap": {},
     "title": ""
    }
   },
   "outputs": [
    {
     "output_type": "stream",
     "name": "stdout",
     "output_type": "stream",
     "text": [
      "+-----------------+-------------------+-----+\n|DEST_COUNTRY_NAME|ORIGIN_COUNTRY_NAME|count|\n+-----------------+-------------------+-----+\n|    United States|            Romania|  ABC|\n|    United States|            Croatia|    1|\n|    United States|            Ireland|  344|\n|            Egypt|      United States|   15|\n|    United States|              India|   62|\n+-----------------+-------------------+-----+\nonly showing top 5 rows\n\n"
     ]
    }
   ],
   "source": [
    "# Load JSON data\n",
    "flight_data_json = \"dbfs:/mnt/data/data/flight-data/json/2015-summary.json\"\n",
    "df = spark.read.format(\"json\").load(flight_data_json)\n",
    "\n",
    "df.show(5)"
   ]
  },
  {
   "cell_type": "code",
   "execution_count": 0,
   "metadata": {
    "application/vnd.databricks.v1+cell": {
     "cellMetadata": {
      "byteLimit": 2048000,
      "rowLimit": 10000
     },
     "inputWidgets": {},
     "nuid": "8dc8b9b4-a93d-47f9-87b6-fafdbff14b41",
     "showTitle": false,
     "tableResultSettingsMap": {},
     "title": ""
    }
   },
   "outputs": [
    {
     "output_type": "stream",
     "name": "stdout",
     "output_type": "stream",
     "text": [
      "root\n |-- DEST_COUNTRY_NAME: string (nullable = true)\n |-- ORIGIN_COUNTRY_NAME: string (nullable = true)\n |-- count: string (nullable = true)\n\n"
     ]
    }
   ],
   "source": [
    "df.printSchema()"
   ]
  },
  {
   "cell_type": "markdown",
   "metadata": {
    "application/vnd.databricks.v1+cell": {
     "cellMetadata": {},
     "inputWidgets": {},
     "nuid": "f5d9cec4-b235-438d-977e-9111e0abfb59",
     "showTitle": false,
     "tableResultSettingsMap": {},
     "title": ""
    }
   },
   "source": [
    "**3. Datasets**\n",
    "Datasets provide type-safe operations with compile-time type checking, combining the benefits of RDDs with the optimizations of DataFrames. While primarily used in Scala and Java, the equivalent in Python is the DataFrame API.\n",
    "\n",
    "- **Differences Between DataFrames and Datasets:**\n",
    "  - **Type Safety**: Datasets offer type safety, while DataFrames do not.\n",
    "  - **Languages**: Datasets are native to Scala and Java; DataFrames are universal.\n",
    "  - **Serialization**: Datasets use encoders for object serialization.\n"
   ]
  },
  {
   "cell_type": "code",
   "execution_count": 0,
   "metadata": {
    "application/vnd.databricks.v1+cell": {
     "cellMetadata": {
      "byteLimit": 2048000,
      "rowLimit": 10000
     },
     "inputWidgets": {},
     "nuid": "d39568b4-ba8a-40ae-a55c-ff189f13c9c1",
     "showTitle": false,
     "tableResultSettingsMap": {},
     "title": ""
    }
   },
   "outputs": [
    {
     "output_type": "display_data",
     "data": {
      "text/html": [
       "<style scoped>\n",
       "  .ansiout {\n",
       "    display: block;\n",
       "    unicode-bidi: embed;\n",
       "    white-space: pre-wrap;\n",
       "    word-wrap: break-word;\n",
       "    word-break: break-all;\n",
       "    font-family: \"Menlo\", \"Monaco\", \"Consolas\", \"Ubuntu Mono\", \"Source Code Pro\", monospace;\n",
       "    font-size: 13px;\n",
       "    color: #555;\n",
       "    margin-left: 4px;\n",
       "    line-height: 19px;\n",
       "  }\n",
       "</style>\n",
       "<div class=\"ansiout\">import org.apache.spark.sql.{SparkSession, Dataset}\n",
       "import org.apache.spark.sql.Encoders\n",
       "</div>"
      ]
     },
     "metadata": {
      "application/vnd.databricks.v1+output": {
       "addedWidgets": {},
       "arguments": {},
       "data": "<div class=\"ansiout\">import org.apache.spark.sql.{SparkSession, Dataset}\nimport org.apache.spark.sql.Encoders\n</div>",
       "datasetInfos": [],
       "metadata": {
        "isDbfsCommandResult": false
       },
       "removedWidgets": [],
       "type": "html"
      }
     },
     "output_type": "display_data"
    }
   ],
   "source": [
    "%scala\n",
    "import org.apache.spark.sql.{SparkSession, Dataset}\n",
    "import org.apache.spark.sql.Encoders"
   ]
  },
  {
   "cell_type": "code",
   "execution_count": 0,
   "metadata": {
    "application/vnd.databricks.v1+cell": {
     "cellMetadata": {
      "byteLimit": 2048000,
      "rowLimit": 10000
     },
     "inputWidgets": {},
     "nuid": "1e57aa15-1e71-4765-bead-25d0677e59e6",
     "showTitle": false,
     "tableResultSettingsMap": {},
     "title": ""
    }
   },
   "outputs": [
    {
     "output_type": "display_data",
     "data": {
      "text/html": [
       "<style scoped>\n",
       "  .ansiout {\n",
       "    display: block;\n",
       "    unicode-bidi: embed;\n",
       "    white-space: pre-wrap;\n",
       "    word-wrap: break-word;\n",
       "    word-break: break-all;\n",
       "    font-family: \"Menlo\", \"Monaco\", \"Consolas\", \"Ubuntu Mono\", \"Source Code Pro\", monospace;\n",
       "    font-size: 13px;\n",
       "    color: #555;\n",
       "    margin-left: 4px;\n",
       "    line-height: 19px;\n",
       "  }\n",
       "</style>\n",
       "<div class=\"ansiout\">defined class FlightData\n",
       "flightDataDS: org.apache.spark.sql.Dataset[FlightData] = [DEST_COUNTRY_NAME: string, ORIGIN_COUNTRY_NAME: string ... 1 more field]\n",
       "</div>"
      ]
     },
     "metadata": {
      "application/vnd.databricks.v1+output": {
       "addedWidgets": {},
       "arguments": {},
       "data": "<div class=\"ansiout\">defined class FlightData\nflightDataDS: org.apache.spark.sql.Dataset[FlightData] = [DEST_COUNTRY_NAME: string, ORIGIN_COUNTRY_NAME: string ... 1 more field]\n</div>",
       "datasetInfos": [
        {
         "name": "flightDataDS",
         "schema": {
          "fields": [
           {
            "metadata": {},
            "name": "DEST_COUNTRY_NAME",
            "nullable": true,
            "type": "string"
           },
           {
            "metadata": {},
            "name": "ORIGIN_COUNTRY_NAME",
            "nullable": true,
            "type": "string"
           },
           {
            "metadata": {},
            "name": "count",
            "nullable": true,
            "type": "long"
           }
          ],
          "type": "struct"
         },
         "tableIdentifier": null,
         "typeStr": "org.apache.spark.sql.Dataset[FlightData]"
        }
       ],
       "metadata": {
        "isDbfsCommandResult": false
       },
       "removedWidgets": [],
       "type": "html"
      }
     },
     "output_type": "display_data"
    }
   ],
   "source": [
    "%scala\n",
    "// Define a case class that represents the schema\n",
    "case class FlightData(DEST_COUNTRY_NAME: String, ORIGIN_COUNTRY_NAME: String, count: Long)\n",
    "\n",
    "// Load data into a Dataset\n",
    "val flightDataDS: Dataset[FlightData] = spark.read\n",
    "  .option(\"header\", \"true\")\n",
    "  .schema(\"DEST_COUNTRY_NAME STRING, ORIGIN_COUNTRY_NAME STRING, count LONG\")\n",
    "  .csv(\"dbfs:/mnt/data/data/flight-data/csv/2015-summary.csv\")\n",
    "  .as[FlightData] // Converts DataFrame to Dataset with type safety"
   ]
  },
  {
   "cell_type": "code",
   "execution_count": 0,
   "metadata": {
    "application/vnd.databricks.v1+cell": {
     "cellMetadata": {
      "byteLimit": 2048000,
      "rowLimit": 10000
     },
     "inputWidgets": {},
     "nuid": "3368d600-e558-496d-8dd5-8c61807629df",
     "showTitle": false,
     "tableResultSettingsMap": {},
     "title": ""
    }
   },
   "outputs": [
    {
     "output_type": "display_data",
     "data": {
      "text/html": [
       "<style scoped>\n",
       "  .ansiout {\n",
       "    display: block;\n",
       "    unicode-bidi: embed;\n",
       "    white-space: pre-wrap;\n",
       "    word-wrap: break-word;\n",
       "    word-break: break-all;\n",
       "    font-family: \"Menlo\", \"Monaco\", \"Consolas\", \"Ubuntu Mono\", \"Source Code Pro\", monospace;\n",
       "    font-size: 13px;\n",
       "    color: #555;\n",
       "    margin-left: 4px;\n",
       "    line-height: 19px;\n",
       "  }\n",
       "</style>\n",
       "<div class=\"ansiout\">+-----------------+-------------------+-----+\n",
       "DEST_COUNTRY_NAME|ORIGIN_COUNTRY_NAME|count|\n",
       "+-----------------+-------------------+-----+\n",
       "    United States|            Romania|   15|\n",
       "    United States|            Croatia|    1|\n",
       "    United States|            Ireland|  344|\n",
       "            Egypt|      United States|   15|\n",
       "    United States|              India|   62|\n",
       "+-----------------+-------------------+-----+\n",
       "only showing top 5 rows\n",
       "\n",
       "</div>"
      ]
     },
     "metadata": {
      "application/vnd.databricks.v1+output": {
       "addedWidgets": {},
       "arguments": {},
       "data": "<div class=\"ansiout\">+-----------------+-------------------+-----+\n|DEST_COUNTRY_NAME|ORIGIN_COUNTRY_NAME|count|\n+-----------------+-------------------+-----+\n|    United States|            Romania|   15|\n|    United States|            Croatia|    1|\n|    United States|            Ireland|  344|\n|            Egypt|      United States|   15|\n|    United States|              India|   62|\n+-----------------+-------------------+-----+\nonly showing top 5 rows\n\n</div>",
       "datasetInfos": [],
       "metadata": {
        "isDbfsCommandResult": false
       },
       "removedWidgets": [],
       "type": "html"
      }
     },
     "output_type": "display_data"
    }
   ],
   "source": [
    "%scala\n",
    "// Show first few records\n",
    "flightDataDS.show(5)"
   ]
  },
  {
   "cell_type": "code",
   "execution_count": 0,
   "metadata": {
    "application/vnd.databricks.v1+cell": {
     "cellMetadata": {
      "byteLimit": 2048000,
      "rowLimit": 10000
     },
     "inputWidgets": {},
     "nuid": "ab9bd6b5-3d4c-427f-ad3e-f2c9c8d2bf5d",
     "showTitle": false,
     "tableResultSettingsMap": {},
     "title": ""
    }
   },
   "outputs": [
    {
     "output_type": "display_data",
     "data": {
      "text/html": [
       "<style scoped>\n",
       "  .ansiout {\n",
       "    display: block;\n",
       "    unicode-bidi: embed;\n",
       "    white-space: pre-wrap;\n",
       "    word-wrap: break-word;\n",
       "    word-break: break-all;\n",
       "    font-family: \"Menlo\", \"Monaco\", \"Consolas\", \"Ubuntu Mono\", \"Source Code Pro\", monospace;\n",
       "    font-size: 13px;\n",
       "    color: #555;\n",
       "    margin-left: 4px;\n",
       "    line-height: 19px;\n",
       "  }\n",
       "</style>\n",
       "<div class=\"ansiout\">+-----------------+-------------------+------+\n",
       "DEST_COUNTRY_NAME|ORIGIN_COUNTRY_NAME| count|\n",
       "+-----------------+-------------------+------+\n",
       "           Mexico|      United States|  7140|\n",
       "    United States| Dominican Republic|  1420|\n",
       "    United States|      United States|370002|\n",
       "          Germany|      United States|  1468|\n",
       "           Canada|      United States|  8399|\n",
       "+-----------------+-------------------+------+\n",
       "only showing top 5 rows\n",
       "\n",
       "filteredDS: org.apache.spark.sql.Dataset[FlightData] = [DEST_COUNTRY_NAME: string, ORIGIN_COUNTRY_NAME: string ... 1 more field]\n",
       "</div>"
      ]
     },
     "metadata": {
      "application/vnd.databricks.v1+output": {
       "addedWidgets": {},
       "arguments": {},
       "data": "<div class=\"ansiout\">+-----------------+-------------------+------+\n|DEST_COUNTRY_NAME|ORIGIN_COUNTRY_NAME| count|\n+-----------------+-------------------+------+\n|           Mexico|      United States|  7140|\n|    United States| Dominican Republic|  1420|\n|    United States|      United States|370002|\n|          Germany|      United States|  1468|\n|           Canada|      United States|  8399|\n+-----------------+-------------------+------+\nonly showing top 5 rows\n\nfilteredDS: org.apache.spark.sql.Dataset[FlightData] = [DEST_COUNTRY_NAME: string, ORIGIN_COUNTRY_NAME: string ... 1 more field]\n</div>",
       "datasetInfos": [
        {
         "name": "filteredDS",
         "schema": {
          "fields": [
           {
            "metadata": {},
            "name": "DEST_COUNTRY_NAME",
            "nullable": true,
            "type": "string"
           },
           {
            "metadata": {},
            "name": "ORIGIN_COUNTRY_NAME",
            "nullable": true,
            "type": "string"
           },
           {
            "metadata": {},
            "name": "count",
            "nullable": true,
            "type": "long"
           }
          ],
          "type": "struct"
         },
         "tableIdentifier": null,
         "typeStr": "org.apache.spark.sql.Dataset[FlightData]"
        }
       ],
       "metadata": {
        "isDbfsCommandResult": false
       },
       "removedWidgets": [],
       "type": "html"
      }
     },
     "output_type": "display_data"
    }
   ],
   "source": [
    "%scala\n",
    "// Filter using strongly typed API\n",
    "val filteredDS = flightDataDS.filter(_.count > 1000)\n",
    "filteredDS.show(5)\n"
   ]
  },
  {
   "cell_type": "code",
   "execution_count": 0,
   "metadata": {
    "application/vnd.databricks.v1+cell": {
     "cellMetadata": {
      "byteLimit": 2048000,
      "rowLimit": 10000
     },
     "inputWidgets": {},
     "nuid": "bb390350-4256-462e-a6d2-98d930253159",
     "showTitle": false,
     "tableResultSettingsMap": {},
     "title": ""
    }
   },
   "outputs": [
    {
     "output_type": "display_data",
     "data": {
      "text/html": [
       "<style scoped>\n",
       "  .ansiout {\n",
       "    display: block;\n",
       "    unicode-bidi: embed;\n",
       "    white-space: pre-wrap;\n",
       "    word-wrap: break-word;\n",
       "    word-break: break-all;\n",
       "    font-family: \"Menlo\", \"Monaco\", \"Consolas\", \"Ubuntu Mono\", \"Source Code Pro\", monospace;\n",
       "    font-size: 13px;\n",
       "    color: #555;\n",
       "    margin-left: 4px;\n",
       "    line-height: 19px;\n",
       "  }\n",
       "</style>\n",
       "<div class=\"ansiout\">+-----------+----------+\n",
       "        key|sum(count)|\n",
       "+-----------+----------+\n",
       "   Anguilla|        41|\n",
       "     Russia|       176|\n",
       "   Paraguay|        60|\n",
       "    Senegal|        40|\n",
       "     Sweden|       118|\n",
       "   Kiribati|        26|\n",
       "     Guyana|        64|\n",
       "Philippines|       134|\n",
       "   Djibouti|         1|\n",
       "   Malaysia|         2|\n",
       "+-----------+----------+\n",
       "only showing top 10 rows\n",
       "\n",
       "import org.apache.spark.sql.functions._\n",
       "aggregatedDS: org.apache.spark.sql.Dataset[(String, Long)] = [key: string, sum(count): bigint]\n",
       "</div>"
      ]
     },
     "metadata": {
      "application/vnd.databricks.v1+output": {
       "addedWidgets": {},
       "arguments": {},
       "data": "<div class=\"ansiout\">+-----------+----------+\n|        key|sum(count)|\n+-----------+----------+\n|   Anguilla|        41|\n|     Russia|       176|\n|   Paraguay|        60|\n|    Senegal|        40|\n|     Sweden|       118|\n|   Kiribati|        26|\n|     Guyana|        64|\n|Philippines|       134|\n|   Djibouti|         1|\n|   Malaysia|         2|\n+-----------+----------+\nonly showing top 10 rows\n\nimport org.apache.spark.sql.functions._\naggregatedDS: org.apache.spark.sql.Dataset[(String, Long)] = [key: string, sum(count): bigint]\n</div>",
       "datasetInfos": [
        {
         "name": "aggregatedDS",
         "schema": {
          "fields": [
           {
            "metadata": {},
            "name": "key",
            "nullable": true,
            "type": "string"
           },
           {
            "metadata": {},
            "name": "sum(count)",
            "nullable": true,
            "type": "long"
           }
          ],
          "type": "struct"
         },
         "tableIdentifier": null,
         "typeStr": "org.apache.spark.sql.Dataset[(String, Long)]"
        }
       ],
       "metadata": {
        "isDbfsCommandResult": false
       },
       "removedWidgets": [],
       "type": "html"
      }
     },
     "output_type": "display_data"
    }
   ],
   "source": [
    "%scala\n",
    "import org.apache.spark.sql.functions._\n",
    "\n",
    "val aggregatedDS = flightDataDS\n",
    "  .groupByKey(_.DEST_COUNTRY_NAME) // Grouping by key\n",
    "  .agg(sum(\"count\").as[Long]) // Type-safe aggregation\n",
    "\n",
    "aggregatedDS.show(10)\n"
   ]
  },
  {
   "cell_type": "code",
   "execution_count": 0,
   "metadata": {
    "application/vnd.databricks.v1+cell": {
     "cellMetadata": {
      "byteLimit": 2048000,
      "rowLimit": 10000
     },
     "inputWidgets": {},
     "nuid": "fa8ab488-2f4b-4380-9205-92a8348bb375",
     "showTitle": false,
     "tableResultSettingsMap": {},
     "title": ""
    }
   },
   "outputs": [
    {
     "output_type": "display_data",
     "data": {
      "text/html": [
       "<style scoped>\n",
       "  .ansiout {\n",
       "    display: block;\n",
       "    unicode-bidi: embed;\n",
       "    white-space: pre-wrap;\n",
       "    word-wrap: break-word;\n",
       "    word-break: break-all;\n",
       "    font-family: \"Menlo\", \"Monaco\", \"Consolas\", \"Ubuntu Mono\", \"Source Code Pro\", monospace;\n",
       "    font-size: 13px;\n",
       "    color: #555;\n",
       "    margin-left: 4px;\n",
       "    line-height: 19px;\n",
       "  }\n",
       "</style>\n",
       "<div class=\"ansiout\">+-----------------+-------------------+-----+\n",
       "DEST_COUNTRY_NAME|ORIGIN_COUNTRY_NAME|count|\n",
       "+-----------------+-------------------+-----+\n",
       "    United States|            Romania|   30|\n",
       "    United States|            Croatia|    2|\n",
       "    United States|            Ireland|  688|\n",
       "            Egypt|      United States|   30|\n",
       "    United States|              India|  124|\n",
       "+-----------------+-------------------+-----+\n",
       "only showing top 5 rows\n",
       "\n",
       "transformedDS: org.apache.spark.sql.Dataset[FlightData] = [DEST_COUNTRY_NAME: string, ORIGIN_COUNTRY_NAME: string ... 1 more field]\n",
       "</div>"
      ]
     },
     "metadata": {
      "application/vnd.databricks.v1+output": {
       "addedWidgets": {},
       "arguments": {},
       "data": "<div class=\"ansiout\">+-----------------+-------------------+-----+\n|DEST_COUNTRY_NAME|ORIGIN_COUNTRY_NAME|count|\n+-----------------+-------------------+-----+\n|    United States|            Romania|   30|\n|    United States|            Croatia|    2|\n|    United States|            Ireland|  688|\n|            Egypt|      United States|   30|\n|    United States|              India|  124|\n+-----------------+-------------------+-----+\nonly showing top 5 rows\n\ntransformedDS: org.apache.spark.sql.Dataset[FlightData] = [DEST_COUNTRY_NAME: string, ORIGIN_COUNTRY_NAME: string ... 1 more field]\n</div>",
       "datasetInfos": [
        {
         "name": "transformedDS",
         "schema": {
          "fields": [
           {
            "metadata": {},
            "name": "DEST_COUNTRY_NAME",
            "nullable": true,
            "type": "string"
           },
           {
            "metadata": {},
            "name": "ORIGIN_COUNTRY_NAME",
            "nullable": true,
            "type": "string"
           },
           {
            "metadata": {},
            "name": "count",
            "nullable": false,
            "type": "long"
           }
          ],
          "type": "struct"
         },
         "tableIdentifier": null,
         "typeStr": "org.apache.spark.sql.Dataset[FlightData]"
        }
       ],
       "metadata": {
        "isDbfsCommandResult": false
       },
       "removedWidgets": [],
       "type": "html"
      }
     },
     "output_type": "display_data"
    }
   ],
   "source": [
    "%scala\n",
    "// Transforming dataset using the map function\n",
    "val transformedDS = flightDataDS.map(flight =>\n",
    "  flight.copy(count = flight.count * 2) // Doubling count\n",
    ")\n",
    "\n",
    "transformedDS.show(5)\n"
   ]
  },
  {
   "cell_type": "code",
   "execution_count": 0,
   "metadata": {
    "application/vnd.databricks.v1+cell": {
     "cellMetadata": {
      "byteLimit": 2048000,
      "rowLimit": 10000
     },
     "inputWidgets": {},
     "nuid": "ec288b53-bc40-4d52-9e7e-d5424cea675d",
     "showTitle": false,
     "tableResultSettingsMap": {},
     "title": ""
    }
   },
   "outputs": [
    {
     "output_type": "display_data",
     "data": {
      "text/html": [
       "<style scoped>\n",
       "  .ansiout {\n",
       "    display: block;\n",
       "    unicode-bidi: embed;\n",
       "    white-space: pre-wrap;\n",
       "    word-wrap: break-word;\n",
       "    word-break: break-all;\n",
       "    font-family: \"Menlo\", \"Monaco\", \"Consolas\", \"Ubuntu Mono\", \"Source Code Pro\", monospace;\n",
       "    font-size: 13px;\n",
       "    color: #555;\n",
       "    margin-left: 4px;\n",
       "    line-height: 19px;\n",
       "  }\n",
       "</style>\n",
       "<div class=\"ansiout\">import org.apache.spark.sql.DataFrame\n",
       "flightDataDF: org.apache.spark.sql.DataFrame = [DEST_COUNTRY_NAME: string, ORIGIN_COUNTRY_NAME: string ... 1 more field]\n",
       "flightDataDS2: org.apache.spark.sql.Dataset[FlightData] = [DEST_COUNTRY_NAME: string, ORIGIN_COUNTRY_NAME: string ... 1 more field]\n",
       "</div>"
      ]
     },
     "metadata": {
      "application/vnd.databricks.v1+output": {
       "addedWidgets": {},
       "arguments": {},
       "data": "<div class=\"ansiout\">import org.apache.spark.sql.DataFrame\nflightDataDF: org.apache.spark.sql.DataFrame = [DEST_COUNTRY_NAME: string, ORIGIN_COUNTRY_NAME: string ... 1 more field]\nflightDataDS2: org.apache.spark.sql.Dataset[FlightData] = [DEST_COUNTRY_NAME: string, ORIGIN_COUNTRY_NAME: string ... 1 more field]\n</div>",
       "datasetInfos": [
        {
         "name": "flightDataDF",
         "schema": {
          "fields": [
           {
            "metadata": {},
            "name": "DEST_COUNTRY_NAME",
            "nullable": true,
            "type": "string"
           },
           {
            "metadata": {},
            "name": "ORIGIN_COUNTRY_NAME",
            "nullable": true,
            "type": "string"
           },
           {
            "metadata": {},
            "name": "count",
            "nullable": true,
            "type": "long"
           }
          ],
          "type": "struct"
         },
         "tableIdentifier": null,
         "typeStr": "org.apache.spark.sql.DataFrame"
        },
        {
         "name": "flightDataDS2",
         "schema": {
          "fields": [
           {
            "metadata": {},
            "name": "DEST_COUNTRY_NAME",
            "nullable": true,
            "type": "string"
           },
           {
            "metadata": {},
            "name": "ORIGIN_COUNTRY_NAME",
            "nullable": true,
            "type": "string"
           },
           {
            "metadata": {},
            "name": "count",
            "nullable": true,
            "type": "long"
           }
          ],
          "type": "struct"
         },
         "tableIdentifier": null,
         "typeStr": "org.apache.spark.sql.Dataset[FlightData]"
        }
       ],
       "metadata": {
        "isDbfsCommandResult": false
       },
       "removedWidgets": [],
       "type": "html"
      }
     },
     "output_type": "display_data"
    }
   ],
   "source": [
    "%scala\n",
    "import org.apache.spark.sql.DataFrame\n",
    "\n",
    "// Convert Dataset to DataFrame\n",
    "val flightDataDF: DataFrame = flightDataDS.toDF()\n",
    "\n",
    "// Convert DataFrame to Dataset\n",
    "val flightDataDS2: Dataset[FlightData] = flightDataDF.as[FlightData]\n"
   ]
  },
  {
   "cell_type": "markdown",
   "metadata": {
    "application/vnd.databricks.v1+cell": {
     "cellMetadata": {},
     "inputWidgets": {},
     "nuid": "a19cf9e6-db61-4c6b-be32-14f1c5e1dced",
     "showTitle": false,
     "tableResultSettingsMap": {},
     "title": ""
    }
   },
   "source": [
    "### File Formats in Spark\n",
    "\n",
    "**1. JSON (JavaScript Object Notation)**\n",
    "A lightweight, semi-structured format ideal for data exchange.\n",
    "\n",
    "- **Advantages:**\n",
    "  - Human-readable.\n",
    "  - Flexible structure for nested data.\n",
    "\n",
    "*Example*: Reading and writing JSON:"
   ]
  },
  {
   "cell_type": "code",
   "execution_count": 0,
   "metadata": {
    "application/vnd.databricks.v1+cell": {
     "cellMetadata": {
      "byteLimit": 2048000,
      "rowLimit": 10000
     },
     "inputWidgets": {},
     "nuid": "486dbc32-52cc-4936-96d8-f9f501f2b6e8",
     "showTitle": false,
     "tableResultSettingsMap": {},
     "title": ""
    }
   },
   "outputs": [],
   "source": [
    "# Reading JSON\n",
    "json_df = spark.read.format(\"json\").load(\"dbfs:/mnt/data/data/flight-data/json/2015-summary.json\")\n",
    "\n",
    "# Writing JSON\n",
    "json_df.write.format(\"json\").save(\"dbfs:/mnt/data/output/flight-data-json\")"
   ]
  },
  {
   "cell_type": "markdown",
   "metadata": {
    "application/vnd.databricks.v1+cell": {
     "cellMetadata": {},
     "inputWidgets": {},
     "nuid": "2ee8349b-d4bf-4b63-b8ea-da86f111d17b",
     "showTitle": false,
     "tableResultSettingsMap": {},
     "title": ""
    }
   },
   "source": [
    "**2. Parquet**\n",
    "A columnar storage format optimized for analytics, offering efficient compression and query performance.\n",
    "\n",
    "- **Advantages:**\n",
    "  - Supports schema evolution.\n",
    "  - Optimized for columnar operations.\n",
    "\n",
    "*Example*: Working with Parquet:"
   ]
  },
  {
   "cell_type": "code",
   "execution_count": 0,
   "metadata": {
    "application/vnd.databricks.v1+cell": {
     "cellMetadata": {
      "byteLimit": 2048000,
      "rowLimit": 10000
     },
     "inputWidgets": {},
     "nuid": "4943ed9b-0d4a-4266-ac84-77201a6d27e6",
     "showTitle": false,
     "tableResultSettingsMap": {},
     "title": ""
    }
   },
   "outputs": [],
   "source": [
    "# Reading Parquet\n",
    "parquet_df = spark.read.format(\"parquet\").load(\"dbfs:/mnt/data/data/flight-data/parquet/2010-summary.parquet\")\n",
    "\n",
    "# Writing Parquet\n",
    "parquet_df.write.format(\"parquet\").save(\"dbfs:/mnt/data/output/flight-data-parquet\")"
   ]
  },
  {
   "cell_type": "markdown",
   "metadata": {
    "application/vnd.databricks.v1+cell": {
     "cellMetadata": {},
     "inputWidgets": {},
     "nuid": "5c1f1705-c7ee-4464-99c1-2bcdd225c2eb",
     "showTitle": false,
     "tableResultSettingsMap": {},
     "title": ""
    }
   },
   "source": [
    "**3. Avro**\n",
    "A row-based binary format commonly used for data serialization.\n",
    "\n",
    "- **Advantages:**\n",
    "  - Compact and efficient.\n",
    "  - Supports schema definition and evolution.\n",
    "\n",
    "*Example*: Working with Avro:"
   ]
  },
  {
   "cell_type": "code",
   "execution_count": 0,
   "metadata": {
    "application/vnd.databricks.v1+cell": {
     "cellMetadata": {
      "byteLimit": 2048000,
      "rowLimit": 10000
     },
     "inputWidgets": {},
     "nuid": "007b8ffd-7c50-4e25-9f56-3269444cc6d7",
     "showTitle": false,
     "tableResultSettingsMap": {},
     "title": ""
    }
   },
   "outputs": [],
   "source": [
    "parquet_df.write.format(\"avro\").save(\"dbfs:/mnt/data/output/flight-data-avro\")\n",
    "\n"
   ]
  },
  {
   "cell_type": "code",
   "execution_count": 0,
   "metadata": {
    "application/vnd.databricks.v1+cell": {
     "cellMetadata": {
      "byteLimit": 2048000,
      "rowLimit": 10000
     },
     "inputWidgets": {},
     "nuid": "7515e31d-1d4c-45fd-98f9-d13b36ee4b91",
     "showTitle": false,
     "tableResultSettingsMap": {},
     "title": ""
    }
   },
   "outputs": [
    {
     "output_type": "display_data",
     "data": {
      "text/html": [
       "<style scoped>\n",
       "  .table-result-container {\n",
       "    max-height: 300px;\n",
       "    overflow: auto;\n",
       "  }\n",
       "  table, th, td {\n",
       "    border: 1px solid black;\n",
       "    border-collapse: collapse;\n",
       "  }\n",
       "  th, td {\n",
       "    padding: 5px;\n",
       "  }\n",
       "  th {\n",
       "    text-align: left;\n",
       "  }\n",
       "</style><div class='table-result-container'><table class='table-result'><thead style='background-color: white'><tr><th>DEST_COUNTRY_NAME</th><th>ORIGIN_COUNTRY_NAME</th><th>count</th></tr></thead><tbody><tr><td>United States</td><td>Romania</td><td>1</td></tr><tr><td>United States</td><td>Ireland</td><td>264</td></tr><tr><td>United States</td><td>India</td><td>69</td></tr><tr><td>Egypt</td><td>United States</td><td>24</td></tr><tr><td>Equatorial Guinea</td><td>United States</td><td>1</td></tr><tr><td>United States</td><td>Singapore</td><td>25</td></tr><tr><td>United States</td><td>Grenada</td><td>54</td></tr><tr><td>Costa Rica</td><td>United States</td><td>477</td></tr><tr><td>Senegal</td><td>United States</td><td>29</td></tr><tr><td>United States</td><td>Marshall Islands</td><td>44</td></tr><tr><td>Guyana</td><td>United States</td><td>17</td></tr><tr><td>United States</td><td>Sint Maarten</td><td>53</td></tr><tr><td>Malta</td><td>United States</td><td>1</td></tr><tr><td>Bolivia</td><td>United States</td><td>46</td></tr><tr><td>Anguilla</td><td>United States</td><td>21</td></tr><tr><td>Turks and Caicos Islands</td><td>United States</td><td>136</td></tr><tr><td>United States</td><td>Afghanistan</td><td>2</td></tr><tr><td>Saint Vincent and the Grenadines</td><td>United States</td><td>1</td></tr><tr><td>Italy</td><td>United States</td><td>390</td></tr><tr><td>United States</td><td>Russia</td><td>156</td></tr><tr><td>United States</td><td>Federated States of Micronesia</td><td>48</td></tr><tr><td>Pakistan</td><td>United States</td><td>9</td></tr><tr><td>United States</td><td>Netherlands</td><td>570</td></tr><tr><td>Iceland</td><td>United States</td><td>118</td></tr><tr><td>Marshall Islands</td><td>United States</td><td>77</td></tr><tr><td>Luxembourg</td><td>United States</td><td>91</td></tr><tr><td>Honduras</td><td>United States</td><td>391</td></tr><tr><td>The Bahamas</td><td>United States</td><td>903</td></tr><tr><td>El Salvador</td><td>United States</td><td>519</td></tr><tr><td>United States</td><td>Senegal</td><td>46</td></tr><tr><td>Samoa</td><td>United States</td><td>28</td></tr><tr><td>United States</td><td>Angola</td><td>18</td></tr><tr><td>Kazakhstan</td><td>United States</td><td>3</td></tr><tr><td>Switzerland</td><td>United States</td><td>315</td></tr><tr><td>United States</td><td>Anguilla</td><td>20</td></tr><tr><td>Sint Maarten</td><td>United States</td><td>61</td></tr><tr><td>Hong Kong</td><td>United States</td><td>252</td></tr><tr><td>Trinidad and Tobago</td><td>United States</td><td>187</td></tr><tr><td>Latvia</td><td>United States</td><td>12</td></tr><tr><td>United States</td><td>Ecuador</td><td>345</td></tr><tr><td>Slovakia</td><td>United States</td><td>1</td></tr><tr><td>Suriname</td><td>United States</td><td>12</td></tr><tr><td>Mexico</td><td>United States</td><td>6200</td></tr><tr><td>United States</td><td>Cyprus</td><td>1</td></tr><tr><td>Ecuador</td><td>United States</td><td>272</td></tr><tr><td>United States</td><td>Bosnia and Herzegovina</td><td>1</td></tr><tr><td>United States</td><td>Portugal</td><td>104</td></tr><tr><td>United States</td><td>Costa Rica</td><td>501</td></tr><tr><td>United States</td><td>Guatemala</td><td>333</td></tr><tr><td>United States</td><td>Suriname</td><td>13</td></tr><tr><td>Colombia</td><td>United States</td><td>785</td></tr><tr><td>United States</td><td>Cape Verde</td><td>18</td></tr><tr><td>United States</td><td>Jamaica</td><td>757</td></tr><tr><td>United States</td><td>Malaysia</td><td>3</td></tr><tr><td>Norway</td><td>United States</td><td>29</td></tr><tr><td>United States</td><td>Morocco</td><td>16</td></tr><tr><td>Thailand</td><td>United States</td><td>16</td></tr><tr><td>Venezuela</td><td>United States</td><td>377</td></tr><tr><td>United States</td><td>Palau</td><td>30</td></tr><tr><td>United States</td><td>Samoa</td><td>28</td></tr><tr><td>United States</td><td>Algeria</td><td>1</td></tr><tr><td>United States</td><td>Venezuela</td><td>341</td></tr><tr><td>Panama</td><td>United States</td><td>355</td></tr><tr><td>United States</td><td>Finland</td><td>20</td></tr><tr><td>United States</td><td>Chile</td><td>176</td></tr><tr><td>Morocco</td><td>United States</td><td>16</td></tr><tr><td>United States</td><td>Greece</td><td>61</td></tr><tr><td>Antigua and Barbuda</td><td>United States</td><td>123</td></tr><tr><td>Azerbaijan</td><td>United States</td><td>1</td></tr><tr><td>United States</td><td>The Bahamas</td><td>959</td></tr><tr><td>New Zealand</td><td>United States</td><td>86</td></tr><tr><td>Liberia</td><td>United States</td><td>1</td></tr><tr><td>United States</td><td>Hong Kong</td><td>293</td></tr><tr><td>Hungary</td><td>United States</td><td>14</td></tr><tr><td>United States</td><td>China</td><td>505</td></tr><tr><td>United States</td><td>Vietnam</td><td>1</td></tr><tr><td>Sweden</td><td>United States</td><td>65</td></tr><tr><td>United States</td><td>Kuwait</td><td>25</td></tr><tr><td>United States</td><td>Dominican Republic</td><td>1150</td></tr><tr><td>United States</td><td>Egypt</td><td>25</td></tr><tr><td>Israel</td><td>United States</td><td>117</td></tr><tr><td>United States</td><td>United States</td><td>348113</td></tr><tr><td>United States</td><td>Luxembourg</td><td>90</td></tr><tr><td>Ethiopia</td><td>United States</td><td>12</td></tr><tr><td>United States</td><td>Poland</td><td>61</td></tr><tr><td>Martinique</td><td>United States</td><td>23</td></tr><tr><td>Saint Barthelemy</td><td>United States</td><td>28</td></tr><tr><td>United States</td><td>Saint Barthelemy</td><td>29</td></tr><tr><td>United States</td><td>Turkey</td><td>87</td></tr><tr><td>Barbados</td><td>United States</td><td>130</td></tr><tr><td>United States</td><td>Estonia</td><td>1</td></tr><tr><td>United States</td><td>Azerbaijan</td><td>1</td></tr><tr><td>Germany</td><td>United States</td><td>1392</td></tr><tr><td>Kyrgyzstan</td><td>United States</td><td>2</td></tr><tr><td>United States</td><td>South Korea</td><td>621</td></tr><tr><td>United States</td><td>El Salvador</td><td>464</td></tr><tr><td>Ireland</td><td>United States</td><td>231</td></tr><tr><td>United States</td><td>Hungary</td><td>15</td></tr><tr><td>United States</td><td>Serbia</td><td>1</td></tr><tr><td>Malaysia</td><td>United States</td><td>1</td></tr><tr><td>United States</td><td>Panama</td><td>363</td></tr><tr><td>United States</td><td>Ethiopia</td><td>12</td></tr><tr><td>United States</td><td>Aruba</td><td>349</td></tr><tr><td>United States</td><td>Thailand</td><td>13</td></tr><tr><td>United States</td><td>Netherlands Antilles</td><td>289</td></tr><tr><td>United States</td><td>Turks and Caicos Islands</td><td>147</td></tr><tr><td>Cyprus</td><td>United States</td><td>2</td></tr><tr><td>United States</td><td>Pakistan</td><td>15</td></tr><tr><td>United States</td><td>Honduras</td><td>393</td></tr><tr><td>Qatar</td><td>United States</td><td>41</td></tr><tr><td>Fiji</td><td>United States</td><td>53</td></tr><tr><td>Saint Kitts and Nevis</td><td>United States</td><td>113</td></tr><tr><td>Taiwan</td><td>United States</td><td>275</td></tr><tr><td>Haiti</td><td>United States</td><td>238</td></tr><tr><td>Kuwait</td><td>United States</td><td>26</td></tr><tr><td>Canada</td><td>United States</td><td>8271</td></tr><tr><td>Federated States of Micronesia</td><td>United States</td><td>46</td></tr><tr><td>United States</td><td>Liberia</td><td>1</td></tr><tr><td>Jamaica</td><td>United States</td><td>733</td></tr><tr><td>United States</td><td>Malta</td><td>2</td></tr><tr><td>Dominican Republic</td><td>United States</td><td>1109</td></tr><tr><td>Japan</td><td>United States</td><td>1383</td></tr><tr><td>United States</td><td>Saint Vincent and the Grenadines</td><td>16</td></tr><tr><td>United States</td><td>Guadeloupe</td><td>33</td></tr><tr><td>Finland</td><td>United States</td><td>24</td></tr><tr><td>United States</td><td>Ukraine</td><td>17</td></tr><tr><td>United States</td><td>France</td><td>776</td></tr><tr><td>United States</td><td>Norway</td><td>36</td></tr><tr><td>Aruba</td><td>United States</td><td>359</td></tr><tr><td>French Guiana</td><td>United States</td><td>4</td></tr><tr><td>United States</td><td>Kiribati</td><td>18</td></tr><tr><td>India</td><td>United States</td><td>66</td></tr><tr><td>British Virgin Islands</td><td>United States</td><td>49</td></tr><tr><td>United States</td><td>Germany</td><td>1406</td></tr><tr><td>Brazil</td><td>United States</td><td>995</td></tr><tr><td>United States</td><td>New Zealand</td><td>71</td></tr><tr><td>French Polynesia</td><td>United States</td><td>38</td></tr><tr><td>United Arab Emirates</td><td>United States</td><td>165</td></tr><tr><td>Singapore</td><td>United States</td><td>25</td></tr><tr><td>United States</td><td>Mexico</td><td>6220</td></tr><tr><td>Netherlands</td><td>United States</td><td>586</td></tr><tr><td>United States</td><td>Sweden</td><td>73</td></tr><tr><td>United States</td><td>Gabon</td><td>1</td></tr><tr><td>United States</td><td>Martinique</td><td>20</td></tr><tr><td>United States</td><td>United Arab Emirates</td><td>156</td></tr><tr><td>United States</td><td>Bulgaria</td><td>2</td></tr><tr><td>China</td><td>United States</td><td>448</td></tr><tr><td>Denmark</td><td>United States</td><td>98</td></tr><tr><td>United States</td><td>Philippines</td><td>116</td></tr><tr><td>United States</td><td>Nicaragua</td><td>181</td></tr><tr><td>United States</td><td>Belgium</td><td>355</td></tr><tr><td>Peru</td><td>United States</td><td>212</td></tr><tr><td>Argentina</td><td>United States</td><td>184</td></tr><tr><td>Cayman Islands</td><td>United States</td><td>247</td></tr><tr><td>South Africa</td><td>United States</td><td>25</td></tr><tr><td>United States</td><td>Iceland</td><td>129</td></tr><tr><td>United States</td><td>Argentina</td><td>159</td></tr><tr><td>Spain</td><td>United States</td><td>422</td></tr><tr><td>Netherlands Antilles</td><td>United States</td><td>286</td></tr><tr><td>Bermuda</td><td>United States</td><td>183</td></tr><tr><td>United States</td><td>Austria</td><td>34</td></tr><tr><td>United States</td><td>Nigeria</td><td>18</td></tr><tr><td>United States</td><td>Bonaire, Sint Eustatius, and Saba</td><td>16</td></tr><tr><td>Kiribati</td><td>United States</td><td>17</td></tr><tr><td>Saudi Arabia</td><td>United States</td><td>42</td></tr><tr><td>Czech Republic</td><td>United States</td><td>21</td></tr><tr><td>Belgium</td><td>United States</td><td>408</td></tr><tr><td>United States</td><td>Israel</td><td>122</td></tr><tr><td>United States</td><td>Bahrain</td><td>1</td></tr><tr><td>United States</td><td>Saint Lucia</td><td>121</td></tr><tr><td>Afghanistan</td><td>United States</td><td>11</td></tr><tr><td>United States</td><td>British Virgin Islands</td><td>47</td></tr><tr><td>Curacao</td><td>United States</td><td>20</td></tr><tr><td>Georgia</td><td>United States</td><td>2</td></tr><tr><td>United States</td><td>Guyana</td><td>20</td></tr><tr><td>United States</td><td>Denmark</td><td>107</td></tr><tr><td>Philippines</td><td>United States</td><td>132</td></tr><tr><td>Grenada</td><td>United States</td><td>65</td></tr><tr><td>Cape Verde</td><td>United States</td><td>18</td></tr><tr><td>Ukraine</td><td>United States</td><td>19</td></tr><tr><td>United States</td><td>Papua New Guinea</td><td>1</td></tr><tr><td>United States</td><td>Saudi Arabia</td><td>54</td></tr><tr><td>Russia</td><td>United States</td><td>152</td></tr><tr><td>Guatemala</td><td>United States</td><td>386</td></tr><tr><td>Saint Lucia</td><td>United States</td><td>116</td></tr><tr><td>Paraguay</td><td>United States</td><td>90</td></tr><tr><td>United States</td><td>Curacao</td><td>14</td></tr><tr><td>United States</td><td>Taiwan</td><td>252</td></tr><tr><td>United States</td><td>South Africa</td><td>15</td></tr><tr><td>Turkey</td><td>United States</td><td>75</td></tr><tr><td>United Kingdom</td><td>United States</td><td>1629</td></tr><tr><td>United States</td><td>Greenland</td><td>2</td></tr><tr><td>United States</td><td>Spain</td><td>442</td></tr><tr><td>Cuba</td><td>United States</td><td>243</td></tr><tr><td>United States</td><td>Italy</td><td>433</td></tr><tr><td>United States</td><td>Switzerland</td><td>334</td></tr><tr><td>Dominica</td><td>United States</td><td>28</td></tr><tr><td>United States</td><td>Japan</td><td>1307</td></tr><tr><td>Portugal</td><td>United States</td><td>102</td></tr><tr><td>United States</td><td>Brazil</td><td>578</td></tr><tr><td>Bahrain</td><td>United States</td><td>30</td></tr><tr><td>United States</td><td>Peru</td><td>284</td></tr><tr><td>Vietnam</td><td>United States</td><td>1</td></tr><tr><td>United States</td><td>United Kingdom</td><td>1503</td></tr><tr><td>United States</td><td>Belize</td><td>118</td></tr><tr><td>Belize</td><td>United States</td><td>121</td></tr><tr><td>United States</td><td>Ghana</td><td>28</td></tr><tr><td>United States</td><td>Indonesia</td><td>1</td></tr><tr><td>United States</td><td>Fiji</td><td>51</td></tr><tr><td>United States</td><td>Canada</td><td>8305</td></tr><tr><td>United States</td><td>French Polynesia</td><td>38</td></tr><tr><td>United States</td><td>Antigua and Barbuda</td><td>121</td></tr><tr><td>United States</td><td>Burkina Faso</td><td>1</td></tr><tr><td>Nicaragua</td><td>United States</td><td>178</td></tr><tr><td>United States</td><td>Latvia</td><td>13</td></tr><tr><td>United States</td><td>Dominica</td><td>32</td></tr><tr><td>United States</td><td>Czech Republic</td><td>22</td></tr><tr><td>United States</td><td>Australia</td><td>216</td></tr><tr><td>Austria</td><td>United States</td><td>36</td></tr><tr><td>United States</td><td>Cook Islands</td><td>12</td></tr><tr><td>Jordan</td><td>United States</td><td>50</td></tr><tr><td>Palau</td><td>United States</td><td>31</td></tr><tr><td>Uganda</td><td>United States</td><td>2</td></tr><tr><td>United States</td><td>Cameroon</td><td>1</td></tr><tr><td>South Korea</td><td>United States</td><td>683</td></tr><tr><td>Angola</td><td>United States</td><td>14</td></tr><tr><td>Ghana</td><td>United States</td><td>27</td></tr><tr><td>Guadeloupe</td><td>United States</td><td>40</td></tr><tr><td>France</td><td>United States</td><td>774</td></tr><tr><td>United States</td><td>Kyrgyzstan</td><td>12</td></tr><tr><td>Poland</td><td>United States</td><td>62</td></tr><tr><td>Nigeria</td><td>United States</td><td>16</td></tr><tr><td>United States</td><td>Uruguay</td><td>24</td></tr><tr><td>Greenland</td><td>United States</td><td>2</td></tr><tr><td>Chile</td><td>United States</td><td>166</td></tr><tr><td>United States</td><td>Bermuda</td><td>180</td></tr><tr><td>United States</td><td>Cuba</td><td>235</td></tr><tr><td>United States</td><td>Colombia</td><td>832</td></tr><tr><td>United States</td><td>Qatar</td><td>40</td></tr><tr><td>United States</td><td>Barbados</td><td>119</td></tr><tr><td>Australia</td><td>United States</td><td>290</td></tr><tr><td>United States</td><td>Jordan</td><td>51</td></tr><tr><td>United States</td><td>Cayman Islands</td><td>251</td></tr><tr><td>United States</td><td>Trinidad and Tobago</td><td>200</td></tr><tr><td>United States</td><td>Bolivia</td><td>39</td></tr><tr><td>United States</td><td>Slovakia</td><td>1</td></tr><tr><td>Uruguay</td><td>United States</td><td>54</td></tr><tr><td>Cook Islands</td><td>United States</td><td>13</td></tr><tr><td>United States</td><td>Saint Kitts and Nevis</td><td>127</td></tr><tr><td>Bulgaria</td><td>United States</td><td>1</td></tr><tr><td>United States</td><td>French Guiana</td><td>1</td></tr><tr><td>United States</td><td>Haiti</td><td>226</td></tr><tr><td>United States</td><td>Uganda</td><td>1</td></tr><tr><td>Bonaire, Sint Eustatius, and Saba</td><td>United States</td><td>16</td></tr><tr><td>Greece</td><td>United States</td><td>50</td></tr></tbody></table></div>"
      ]
     },
     "metadata": {
      "application/vnd.databricks.v1+output": {
       "addedWidgets": {},
       "aggData": [],
       "aggError": "",
       "aggOverflow": false,
       "aggSchema": [],
       "aggSeriesLimitReached": false,
       "aggType": "",
       "arguments": {},
       "columnCustomDisplayInfos": {},
       "data": [
        [
         "United States",
         "Romania",
         1
        ],
        [
         "United States",
         "Ireland",
         264
        ],
        [
         "United States",
         "India",
         69
        ],
        [
         "Egypt",
         "United States",
         24
        ],
        [
         "Equatorial Guinea",
         "United States",
         1
        ],
        [
         "United States",
         "Singapore",
         25
        ],
        [
         "United States",
         "Grenada",
         54
        ],
        [
         "Costa Rica",
         "United States",
         477
        ],
        [
         "Senegal",
         "United States",
         29
        ],
        [
         "United States",
         "Marshall Islands",
         44
        ],
        [
         "Guyana",
         "United States",
         17
        ],
        [
         "United States",
         "Sint Maarten",
         53
        ],
        [
         "Malta",
         "United States",
         1
        ],
        [
         "Bolivia",
         "United States",
         46
        ],
        [
         "Anguilla",
         "United States",
         21
        ],
        [
         "Turks and Caicos Islands",
         "United States",
         136
        ],
        [
         "United States",
         "Afghanistan",
         2
        ],
        [
         "Saint Vincent and the Grenadines",
         "United States",
         1
        ],
        [
         "Italy",
         "United States",
         390
        ],
        [
         "United States",
         "Russia",
         156
        ],
        [
         "United States",
         "Federated States of Micronesia",
         48
        ],
        [
         "Pakistan",
         "United States",
         9
        ],
        [
         "United States",
         "Netherlands",
         570
        ],
        [
         "Iceland",
         "United States",
         118
        ],
        [
         "Marshall Islands",
         "United States",
         77
        ],
        [
         "Luxembourg",
         "United States",
         91
        ],
        [
         "Honduras",
         "United States",
         391
        ],
        [
         "The Bahamas",
         "United States",
         903
        ],
        [
         "El Salvador",
         "United States",
         519
        ],
        [
         "United States",
         "Senegal",
         46
        ],
        [
         "Samoa",
         "United States",
         28
        ],
        [
         "United States",
         "Angola",
         18
        ],
        [
         "Kazakhstan",
         "United States",
         3
        ],
        [
         "Switzerland",
         "United States",
         315
        ],
        [
         "United States",
         "Anguilla",
         20
        ],
        [
         "Sint Maarten",
         "United States",
         61
        ],
        [
         "Hong Kong",
         "United States",
         252
        ],
        [
         "Trinidad and Tobago",
         "United States",
         187
        ],
        [
         "Latvia",
         "United States",
         12
        ],
        [
         "United States",
         "Ecuador",
         345
        ],
        [
         "Slovakia",
         "United States",
         1
        ],
        [
         "Suriname",
         "United States",
         12
        ],
        [
         "Mexico",
         "United States",
         6200
        ],
        [
         "United States",
         "Cyprus",
         1
        ],
        [
         "Ecuador",
         "United States",
         272
        ],
        [
         "United States",
         "Bosnia and Herzegovina",
         1
        ],
        [
         "United States",
         "Portugal",
         104
        ],
        [
         "United States",
         "Costa Rica",
         501
        ],
        [
         "United States",
         "Guatemala",
         333
        ],
        [
         "United States",
         "Suriname",
         13
        ],
        [
         "Colombia",
         "United States",
         785
        ],
        [
         "United States",
         "Cape Verde",
         18
        ],
        [
         "United States",
         "Jamaica",
         757
        ],
        [
         "United States",
         "Malaysia",
         3
        ],
        [
         "Norway",
         "United States",
         29
        ],
        [
         "United States",
         "Morocco",
         16
        ],
        [
         "Thailand",
         "United States",
         16
        ],
        [
         "Venezuela",
         "United States",
         377
        ],
        [
         "United States",
         "Palau",
         30
        ],
        [
         "United States",
         "Samoa",
         28
        ],
        [
         "United States",
         "Algeria",
         1
        ],
        [
         "United States",
         "Venezuela",
         341
        ],
        [
         "Panama",
         "United States",
         355
        ],
        [
         "United States",
         "Finland",
         20
        ],
        [
         "United States",
         "Chile",
         176
        ],
        [
         "Morocco",
         "United States",
         16
        ],
        [
         "United States",
         "Greece",
         61
        ],
        [
         "Antigua and Barbuda",
         "United States",
         123
        ],
        [
         "Azerbaijan",
         "United States",
         1
        ],
        [
         "United States",
         "The Bahamas",
         959
        ],
        [
         "New Zealand",
         "United States",
         86
        ],
        [
         "Liberia",
         "United States",
         1
        ],
        [
         "United States",
         "Hong Kong",
         293
        ],
        [
         "Hungary",
         "United States",
         14
        ],
        [
         "United States",
         "China",
         505
        ],
        [
         "United States",
         "Vietnam",
         1
        ],
        [
         "Sweden",
         "United States",
         65
        ],
        [
         "United States",
         "Kuwait",
         25
        ],
        [
         "United States",
         "Dominican Republic",
         1150
        ],
        [
         "United States",
         "Egypt",
         25
        ],
        [
         "Israel",
         "United States",
         117
        ],
        [
         "United States",
         "United States",
         348113
        ],
        [
         "United States",
         "Luxembourg",
         90
        ],
        [
         "Ethiopia",
         "United States",
         12
        ],
        [
         "United States",
         "Poland",
         61
        ],
        [
         "Martinique",
         "United States",
         23
        ],
        [
         "Saint Barthelemy",
         "United States",
         28
        ],
        [
         "United States",
         "Saint Barthelemy",
         29
        ],
        [
         "United States",
         "Turkey",
         87
        ],
        [
         "Barbados",
         "United States",
         130
        ],
        [
         "United States",
         "Estonia",
         1
        ],
        [
         "United States",
         "Azerbaijan",
         1
        ],
        [
         "Germany",
         "United States",
         1392
        ],
        [
         "Kyrgyzstan",
         "United States",
         2
        ],
        [
         "United States",
         "South Korea",
         621
        ],
        [
         "United States",
         "El Salvador",
         464
        ],
        [
         "Ireland",
         "United States",
         231
        ],
        [
         "United States",
         "Hungary",
         15
        ],
        [
         "United States",
         "Serbia",
         1
        ],
        [
         "Malaysia",
         "United States",
         1
        ],
        [
         "United States",
         "Panama",
         363
        ],
        [
         "United States",
         "Ethiopia",
         12
        ],
        [
         "United States",
         "Aruba",
         349
        ],
        [
         "United States",
         "Thailand",
         13
        ],
        [
         "United States",
         "Netherlands Antilles",
         289
        ],
        [
         "United States",
         "Turks and Caicos Islands",
         147
        ],
        [
         "Cyprus",
         "United States",
         2
        ],
        [
         "United States",
         "Pakistan",
         15
        ],
        [
         "United States",
         "Honduras",
         393
        ],
        [
         "Qatar",
         "United States",
         41
        ],
        [
         "Fiji",
         "United States",
         53
        ],
        [
         "Saint Kitts and Nevis",
         "United States",
         113
        ],
        [
         "Taiwan",
         "United States",
         275
        ],
        [
         "Haiti",
         "United States",
         238
        ],
        [
         "Kuwait",
         "United States",
         26
        ],
        [
         "Canada",
         "United States",
         8271
        ],
        [
         "Federated States of Micronesia",
         "United States",
         46
        ],
        [
         "United States",
         "Liberia",
         1
        ],
        [
         "Jamaica",
         "United States",
         733
        ],
        [
         "United States",
         "Malta",
         2
        ],
        [
         "Dominican Republic",
         "United States",
         1109
        ],
        [
         "Japan",
         "United States",
         1383
        ],
        [
         "United States",
         "Saint Vincent and the Grenadines",
         16
        ],
        [
         "United States",
         "Guadeloupe",
         33
        ],
        [
         "Finland",
         "United States",
         24
        ],
        [
         "United States",
         "Ukraine",
         17
        ],
        [
         "United States",
         "France",
         776
        ],
        [
         "United States",
         "Norway",
         36
        ],
        [
         "Aruba",
         "United States",
         359
        ],
        [
         "French Guiana",
         "United States",
         4
        ],
        [
         "United States",
         "Kiribati",
         18
        ],
        [
         "India",
         "United States",
         66
        ],
        [
         "British Virgin Islands",
         "United States",
         49
        ],
        [
         "United States",
         "Germany",
         1406
        ],
        [
         "Brazil",
         "United States",
         995
        ],
        [
         "United States",
         "New Zealand",
         71
        ],
        [
         "French Polynesia",
         "United States",
         38
        ],
        [
         "United Arab Emirates",
         "United States",
         165
        ],
        [
         "Singapore",
         "United States",
         25
        ],
        [
         "United States",
         "Mexico",
         6220
        ],
        [
         "Netherlands",
         "United States",
         586
        ],
        [
         "United States",
         "Sweden",
         73
        ],
        [
         "United States",
         "Gabon",
         1
        ],
        [
         "United States",
         "Martinique",
         20
        ],
        [
         "United States",
         "United Arab Emirates",
         156
        ],
        [
         "United States",
         "Bulgaria",
         2
        ],
        [
         "China",
         "United States",
         448
        ],
        [
         "Denmark",
         "United States",
         98
        ],
        [
         "United States",
         "Philippines",
         116
        ],
        [
         "United States",
         "Nicaragua",
         181
        ],
        [
         "United States",
         "Belgium",
         355
        ],
        [
         "Peru",
         "United States",
         212
        ],
        [
         "Argentina",
         "United States",
         184
        ],
        [
         "Cayman Islands",
         "United States",
         247
        ],
        [
         "South Africa",
         "United States",
         25
        ],
        [
         "United States",
         "Iceland",
         129
        ],
        [
         "United States",
         "Argentina",
         159
        ],
        [
         "Spain",
         "United States",
         422
        ],
        [
         "Netherlands Antilles",
         "United States",
         286
        ],
        [
         "Bermuda",
         "United States",
         183
        ],
        [
         "United States",
         "Austria",
         34
        ],
        [
         "United States",
         "Nigeria",
         18
        ],
        [
         "United States",
         "Bonaire, Sint Eustatius, and Saba",
         16
        ],
        [
         "Kiribati",
         "United States",
         17
        ],
        [
         "Saudi Arabia",
         "United States",
         42
        ],
        [
         "Czech Republic",
         "United States",
         21
        ],
        [
         "Belgium",
         "United States",
         408
        ],
        [
         "United States",
         "Israel",
         122
        ],
        [
         "United States",
         "Bahrain",
         1
        ],
        [
         "United States",
         "Saint Lucia",
         121
        ],
        [
         "Afghanistan",
         "United States",
         11
        ],
        [
         "United States",
         "British Virgin Islands",
         47
        ],
        [
         "Curacao",
         "United States",
         20
        ],
        [
         "Georgia",
         "United States",
         2
        ],
        [
         "United States",
         "Guyana",
         20
        ],
        [
         "United States",
         "Denmark",
         107
        ],
        [
         "Philippines",
         "United States",
         132
        ],
        [
         "Grenada",
         "United States",
         65
        ],
        [
         "Cape Verde",
         "United States",
         18
        ],
        [
         "Ukraine",
         "United States",
         19
        ],
        [
         "United States",
         "Papua New Guinea",
         1
        ],
        [
         "United States",
         "Saudi Arabia",
         54
        ],
        [
         "Russia",
         "United States",
         152
        ],
        [
         "Guatemala",
         "United States",
         386
        ],
        [
         "Saint Lucia",
         "United States",
         116
        ],
        [
         "Paraguay",
         "United States",
         90
        ],
        [
         "United States",
         "Curacao",
         14
        ],
        [
         "United States",
         "Taiwan",
         252
        ],
        [
         "United States",
         "South Africa",
         15
        ],
        [
         "Turkey",
         "United States",
         75
        ],
        [
         "United Kingdom",
         "United States",
         1629
        ],
        [
         "United States",
         "Greenland",
         2
        ],
        [
         "United States",
         "Spain",
         442
        ],
        [
         "Cuba",
         "United States",
         243
        ],
        [
         "United States",
         "Italy",
         433
        ],
        [
         "United States",
         "Switzerland",
         334
        ],
        [
         "Dominica",
         "United States",
         28
        ],
        [
         "United States",
         "Japan",
         1307
        ],
        [
         "Portugal",
         "United States",
         102
        ],
        [
         "United States",
         "Brazil",
         578
        ],
        [
         "Bahrain",
         "United States",
         30
        ],
        [
         "United States",
         "Peru",
         284
        ],
        [
         "Vietnam",
         "United States",
         1
        ],
        [
         "United States",
         "United Kingdom",
         1503
        ],
        [
         "United States",
         "Belize",
         118
        ],
        [
         "Belize",
         "United States",
         121
        ],
        [
         "United States",
         "Ghana",
         28
        ],
        [
         "United States",
         "Indonesia",
         1
        ],
        [
         "United States",
         "Fiji",
         51
        ],
        [
         "United States",
         "Canada",
         8305
        ],
        [
         "United States",
         "French Polynesia",
         38
        ],
        [
         "United States",
         "Antigua and Barbuda",
         121
        ],
        [
         "United States",
         "Burkina Faso",
         1
        ],
        [
         "Nicaragua",
         "United States",
         178
        ],
        [
         "United States",
         "Latvia",
         13
        ],
        [
         "United States",
         "Dominica",
         32
        ],
        [
         "United States",
         "Czech Republic",
         22
        ],
        [
         "United States",
         "Australia",
         216
        ],
        [
         "Austria",
         "United States",
         36
        ],
        [
         "United States",
         "Cook Islands",
         12
        ],
        [
         "Jordan",
         "United States",
         50
        ],
        [
         "Palau",
         "United States",
         31
        ],
        [
         "Uganda",
         "United States",
         2
        ],
        [
         "United States",
         "Cameroon",
         1
        ],
        [
         "South Korea",
         "United States",
         683
        ],
        [
         "Angola",
         "United States",
         14
        ],
        [
         "Ghana",
         "United States",
         27
        ],
        [
         "Guadeloupe",
         "United States",
         40
        ],
        [
         "France",
         "United States",
         774
        ],
        [
         "United States",
         "Kyrgyzstan",
         12
        ],
        [
         "Poland",
         "United States",
         62
        ],
        [
         "Nigeria",
         "United States",
         16
        ],
        [
         "United States",
         "Uruguay",
         24
        ],
        [
         "Greenland",
         "United States",
         2
        ],
        [
         "Chile",
         "United States",
         166
        ],
        [
         "United States",
         "Bermuda",
         180
        ],
        [
         "United States",
         "Cuba",
         235
        ],
        [
         "United States",
         "Colombia",
         832
        ],
        [
         "United States",
         "Qatar",
         40
        ],
        [
         "United States",
         "Barbados",
         119
        ],
        [
         "Australia",
         "United States",
         290
        ],
        [
         "United States",
         "Jordan",
         51
        ],
        [
         "United States",
         "Cayman Islands",
         251
        ],
        [
         "United States",
         "Trinidad and Tobago",
         200
        ],
        [
         "United States",
         "Bolivia",
         39
        ],
        [
         "United States",
         "Slovakia",
         1
        ],
        [
         "Uruguay",
         "United States",
         54
        ],
        [
         "Cook Islands",
         "United States",
         13
        ],
        [
         "United States",
         "Saint Kitts and Nevis",
         127
        ],
        [
         "Bulgaria",
         "United States",
         1
        ],
        [
         "United States",
         "French Guiana",
         1
        ],
        [
         "United States",
         "Haiti",
         226
        ],
        [
         "United States",
         "Uganda",
         1
        ],
        [
         "Bonaire, Sint Eustatius, and Saba",
         "United States",
         16
        ],
        [
         "Greece",
         "United States",
         50
        ]
       ],
       "datasetInfos": [],
       "dbfsResultPath": null,
       "isJsonSchema": true,
       "metadata": {},
       "overflow": false,
       "plotOptions": {
        "customPlotOptions": {},
        "displayType": "table",
        "pivotAggregation": null,
        "pivotColumns": null,
        "xColumns": null,
        "yColumns": null
       },
       "removedWidgets": [],
       "schema": [
        {
         "metadata": "{}",
         "name": "DEST_COUNTRY_NAME",
         "type": "\"string\""
        },
        {
         "metadata": "{}",
         "name": "ORIGIN_COUNTRY_NAME",
         "type": "\"string\""
        },
        {
         "metadata": "{}",
         "name": "count",
         "type": "\"long\""
        }
       ],
       "type": "table"
      }
     },
     "output_type": "display_data"
    }
   ],
   "source": [
    "# Reading Avro\n",
    "avro_df = spark.read.format(\"avro\").load(\"dbfs:/mnt/data/output/flight-data-avro\")\n",
    "avro_df.display()"
   ]
  },
  {
   "cell_type": "markdown",
   "metadata": {
    "application/vnd.databricks.v1+cell": {
     "cellMetadata": {},
     "inputWidgets": {},
     "nuid": "515ed97e-e696-47fc-b313-b5138d729cbd",
     "showTitle": false,
     "tableResultSettingsMap": {},
     "title": ""
    }
   },
   "source": [
    "**4. CSV (Comma-Separated Values)**\n",
    "A widely used format for simple tabular data.\n",
    "\n",
    "- **Advantages:**\n",
    "  - Easy to understand and use.\n",
    "  - Compatible with many tools.\n",
    "\n",
    "*Example*: Working with CSV:"
   ]
  },
  {
   "cell_type": "code",
   "execution_count": 0,
   "metadata": {
    "application/vnd.databricks.v1+cell": {
     "cellMetadata": {
      "byteLimit": 2048000,
      "rowLimit": 10000
     },
     "inputWidgets": {},
     "nuid": "82a54021-6cdd-4b8b-ab1b-7415ddfb89c7",
     "showTitle": false,
     "tableResultSettingsMap": {},
     "title": ""
    }
   },
   "outputs": [],
   "source": [
    "# Reading CSV\n",
    "csv_df = spark.read.format(\"csv\").option(\"header\", True).load(\"dbfs:/mnt/data/data/flight-data/csv/2010-summary.csv\")\n",
    "\n",
    "# Writing CSV\n",
    "csv_df.write.format(\"csv\").option(\"header\", True).save(\"dbfs:/mnt/data/output/flight-data-csv\")"
   ]
  },
  {
   "cell_type": "markdown",
   "metadata": {
    "application/vnd.databricks.v1+cell": {
     "cellMetadata": {},
     "inputWidgets": {},
     "nuid": "9393babb-d73c-4a0e-b456-31e5b5e1e456",
     "showTitle": false,
     "tableResultSettingsMap": {},
     "title": ""
    }
   },
   "source": [
    "---\n",
    "\n",
    "### Schema Management and Optimization\n",
    "\n",
    "**1. Inferring Schema**\n",
    "Spark automatically detects column names and data types based on file contents.\n",
    "\n",
    "*Example*: Inferring schema from JSON:"
   ]
  },
  {
   "cell_type": "code",
   "execution_count": 0,
   "metadata": {
    "application/vnd.databricks.v1+cell": {
     "cellMetadata": {
      "byteLimit": 2048000,
      "rowLimit": 10000
     },
     "inputWidgets": {},
     "nuid": "5f9f2dcb-22cf-4d36-be63-81cb9aeea21b",
     "showTitle": false,
     "tableResultSettingsMap": {},
     "title": ""
    }
   },
   "outputs": [
    {
     "output_type": "stream",
     "name": "stdout",
     "output_type": "stream",
     "text": [
      "root\n |-- DEST_COUNTRY_NAME: string (nullable = true)\n |-- ORIGIN_COUNTRY_NAME: string (nullable = true)\n |-- count: string (nullable = true)\n\n"
     ]
    }
   ],
   "source": [
    "schema_inferred_df = spark.read.json(flight_data_json)\n",
    "schema_inferred_df.printSchema()"
   ]
  },
  {
   "cell_type": "markdown",
   "metadata": {
    "application/vnd.databricks.v1+cell": {
     "cellMetadata": {},
     "inputWidgets": {},
     "nuid": "1505042e-1223-4949-89fd-309c8d47d9d3",
     "showTitle": false,
     "tableResultSettingsMap": {},
     "title": ""
    }
   },
   "source": [
    "**2. Explicit Schema Definition**\n",
    "Define schemas for strict data validation and compatibility.\n",
    "\n",
    "*Example*: Defining a schema:"
   ]
  },
  {
   "cell_type": "code",
   "execution_count": 0,
   "metadata": {
    "application/vnd.databricks.v1+cell": {
     "cellMetadata": {
      "byteLimit": 2048000,
      "rowLimit": 10000
     },
     "inputWidgets": {},
     "nuid": "e14fc9ef-d010-44c1-b781-046ae704445b",
     "showTitle": false,
     "tableResultSettingsMap": {},
     "title": ""
    }
   },
   "outputs": [
    {
     "output_type": "stream",
     "name": "stdout",
     "output_type": "stream",
     "text": [
      "root\n |-- DEST_COUNTRY_NAME: string (nullable = true)\n |-- ORIGIN_COUNTRY_NAME: string (nullable = true)\n |-- count: long (nullable = true)\n\n"
     ]
    }
   ],
   "source": [
    "from pyspark.sql.types import StructType, StructField, StringType, LongType\n",
    "\n",
    "schema = StructType([\n",
    "    StructField(\"DEST_COUNTRY_NAME\", StringType(), True),\n",
    "    StructField(\"ORIGIN_COUNTRY_NAME\", StringType(), True),\n",
    "    StructField(\"count\", LongType(), True)\n",
    "])\n",
    "\n",
    "schema_defined_df = spark.read.format(\"json\").schema(schema).load(flight_data_json)\n",
    "schema_defined_df.printSchema()"
   ]
  },
  {
   "cell_type": "markdown",
   "metadata": {
    "application/vnd.databricks.v1+cell": {
     "cellMetadata": {},
     "inputWidgets": {},
     "nuid": "e7182897-4096-4d26-9c73-724930e10bbb",
     "showTitle": false,
     "tableResultSettingsMap": {},
     "title": ""
    }
   },
   "source": [
    "---\n",
    "\n"
   ]
  },
  {
   "cell_type": "markdown",
   "metadata": {
    "application/vnd.databricks.v1+cell": {
     "cellMetadata": {},
     "inputWidgets": {},
     "nuid": "2bbdfa93-aab6-4512-9b9c-7b36f8e7da93",
     "showTitle": false,
     "tableResultSettingsMap": {},
     "title": ""
    }
   },
   "source": [
    "---"
   ]
  }
 ],
 "metadata": {
  "application/vnd.databricks.v1+notebook": {
   "computePreferences": null,
   "dashboards": [],
   "environmentMetadata": null,
   "language": "python",
   "notebookMetadata": {
    "pythonIndentUnit": 4
   },
   "notebookName": "M3-DataFrames-and-Datasets",
   "widgets": {}
  },
  "language_info": {
   "name": "python"
  }
 },
 "nbformat": 4,
 "nbformat_minor": 0
}