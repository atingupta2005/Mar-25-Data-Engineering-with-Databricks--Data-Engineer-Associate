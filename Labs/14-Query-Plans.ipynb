{
 "cells": [
  {
   "cell_type": "code",
   "execution_count": 0,
   "metadata": {
    "application/vnd.databricks.v1+cell": {
     "cellMetadata": {
      "byteLimit": 2048000,
      "rowLimit": 10000
     },
     "inputWidgets": {},
     "nuid": "9cbbccfa-7235-4b39-a96d-ef95b409b718",
     "showTitle": false,
     "tableResultSettingsMap": {},
     "title": ""
    }
   },
   "outputs": [],
   "source": [
    "home = \"dbfs:/mnt/data\"\n",
    "\n",
    "path_LMS = f\"{home}/data/Predict-Forclosure/Foreclosure-Prediction-Dataset/LMS_31JAN2019.csv\"\n",
    "path_RMS_Final = f\"{home}/data/Predict-Forclosure/Foreclosure-Prediction-Dataset/RF_Final_Data.csv\"\n",
    "path_Customer = f\"{home}/data/Predict-Forclosure/Foreclosure-Prediction-Dataset/Customers_31JAN2019.csv\""
   ]
  },
  {
   "cell_type": "code",
   "execution_count": 0,
   "metadata": {
    "application/vnd.databricks.v1+cell": {
     "cellMetadata": {
      "byteLimit": 2048000,
      "rowLimit": 10000
     },
     "inputWidgets": {},
     "nuid": "1e640a6e-ff40-4550-b645-aa38444afb80",
     "showTitle": false,
     "tableResultSettingsMap": {},
     "title": ""
    }
   },
   "outputs": [
    {
     "output_type": "execute_result",
     "data": {
      "text/plain": [
       "DataFrame[AGREEMENTID: int, CUSTOMERID: string, LOAN_AMT: string, NET_DISBURSED_AMT: string, INTEREST_START_DATE: string, CURRENT_ROI: double, ORIGNAL_ROI: double, CURRENT_TENOR: int, ORIGNAL_TENOR: int, DUEDAY: int, AUTHORIZATIONDATE: string, CITY: string, PRE_EMI_DUEAMT: double, PRE_EMI_RECEIVED_AMT: double, PRE_EMI_OS_AMOUNT: double, EMI_DUEAMT: double, EMI_RECEIVED_AMT: double, EMI_OS_AMOUNT: double, EXCESS_AVAILABLE: double, EXCESS_ADJUSTED_AMT: double, BALANCE_EXCESS: double, NET_RECEIVABLE: double, OUTSTANDING_PRINCIPAL: double, PAID_PRINCIPAL: double, PAID_INTEREST: double, MONTHOPENING: double, LAST_RECEIPT_DATE: string, LAST_RECEIPT_AMOUNT: double, NET_LTV: double, COMPLETED_TENURE: int, BALANCE_TENURE: int, DPD: int, FOIR: double, PRODUCT: string, SCHEMEID: string, NPA_IN_LAST_MONTH: string, NPA_IN_CURRENT_MONTH: string, MOB: int]"
      ]
     },
     "execution_count": 2,
     "metadata": {},
     "output_type": "execute_result"
    }
   ],
   "source": [
    "df_lms = spark\\\n",
    ".read\\\n",
    ".option(\"inferSchema\", \"true\")\\\n",
    ".option(\"header\", \"true\")\\\n",
    ".csv(path_LMS)\n",
    "df_lms"
   ]
  },
  {
   "cell_type": "code",
   "execution_count": 0,
   "metadata": {
    "application/vnd.databricks.v1+cell": {
     "cellMetadata": {
      "byteLimit": 2048000,
      "rowLimit": 10000
     },
     "inputWidgets": {},
     "nuid": "bd0e72ee-a21b-4912-9ff5-9cbcfb3d424b",
     "showTitle": false,
     "tableResultSettingsMap": {},
     "title": ""
    }
   },
   "outputs": [
    {
     "output_type": "execute_result",
     "data": {
      "text/plain": [
       "DataFrame[TicketId: string, Type: string, SubType: string, Status: string, Date: string, Preprocessed_EmailBody: string, Preprocessed_Subject: string, Masked_CustomerID: string, Masked_AgreementID: string]"
      ]
     },
     "execution_count": 3,
     "metadata": {},
     "output_type": "execute_result"
    }
   ],
   "source": [
    "df_RMS_Final = spark\\\n",
    ".read\\\n",
    ".option(\"inferSchema\", \"true\")\\\n",
    ".option(\"header\", \"true\")\\\n",
    ".csv(path_RMS_Final)\n",
    "df_RMS_Final"
   ]
  },
  {
   "cell_type": "code",
   "execution_count": 0,
   "metadata": {
    "application/vnd.databricks.v1+cell": {
     "cellMetadata": {
      "byteLimit": 2048000,
      "rowLimit": 10000
     },
     "inputWidgets": {},
     "nuid": "43cd3531-cf60-4843-a88f-6d8a74b3bf58",
     "showTitle": false,
     "tableResultSettingsMap": {},
     "title": ""
    }
   },
   "outputs": [
    {
     "output_type": "execute_result",
     "data": {
      "text/plain": [
       "DataFrame[CUSTOMERID: int, CUST_CONSTTYPE_ID: int, CUST_CATEGORYID: int, PROFESSION: string, AGE: int, SEX: string, MARITAL_STATUS: string, QUALIFICATION: string, NO_OF_DEPENDENT: int, OCCUPATION: string, POSITION: string, GROSS_INCOME: double, PRE_JOBYEARS: int, NETTAKEHOMEINCOME: double, BRANCH_PINCODE: string]"
      ]
     },
     "execution_count": 4,
     "metadata": {},
     "output_type": "execute_result"
    }
   ],
   "source": [
    "df_Customer = spark\\\n",
    ".read\\\n",
    ".option(\"inferSchema\", \"true\")\\\n",
    ".option(\"header\", \"true\")\\\n",
    ".csv(path_Customer)\n",
    "df_Customer"
   ]
  },
  {
   "cell_type": "code",
   "execution_count": 0,
   "metadata": {
    "application/vnd.databricks.v1+cell": {
     "cellMetadata": {
      "byteLimit": 2048000,
      "rowLimit": 10000
     },
     "inputWidgets": {},
     "nuid": "2c72a34a-f7c1-4866-9600-982443ef9d2c",
     "showTitle": false,
     "tableResultSettingsMap": {},
     "title": ""
    }
   },
   "outputs": [
    {
     "output_type": "execute_result",
     "data": {
      "text/html": [
       "<div>\n",
       "<style scoped>\n",
       "    .dataframe tbody tr th:only-of-type {\n",
       "        vertical-align: middle;\n",
       "    }\n",
       "\n",
       "    .dataframe tbody tr th {\n",
       "        vertical-align: top;\n",
       "    }\n",
       "\n",
       "    .dataframe thead th {\n",
       "        text-align: right;\n",
       "    }\n",
       "</style>\n",
       "<table border=\"1\" class=\"dataframe\">\n",
       "  <thead>\n",
       "    <tr style=\"text-align: right;\">\n",
       "      <th></th>\n",
       "      <th>CUSTOMERID</th>\n",
       "      <th>CUST_CONSTTYPE_ID</th>\n",
       "      <th>CUST_CATEGORYID</th>\n",
       "      <th>PROFESSION</th>\n",
       "      <th>AGE</th>\n",
       "      <th>SEX</th>\n",
       "      <th>MARITAL_STATUS</th>\n",
       "      <th>QUALIFICATION</th>\n",
       "      <th>NO_OF_DEPENDENT</th>\n",
       "      <th>OCCUPATION</th>\n",
       "      <th>POSITION</th>\n",
       "      <th>GROSS_INCOME</th>\n",
       "      <th>PRE_JOBYEARS</th>\n",
       "      <th>NETTAKEHOMEINCOME</th>\n",
       "      <th>BRANCH_PINCODE</th>\n",
       "    </tr>\n",
       "  </thead>\n",
       "  <tbody>\n",
       "    <tr>\n",
       "      <th>0</th>\n",
       "      <td>12001000</td>\n",
       "      <td>1</td>\n",
       "      <td>5</td>\n",
       "      <td>None</td>\n",
       "      <td>33</td>\n",
       "      <td>M</td>\n",
       "      <td>M</td>\n",
       "      <td>POSTGRAD</td>\n",
       "      <td>0</td>\n",
       "      <td>None</td>\n",
       "      <td>None</td>\n",
       "      <td>198375.22180</td>\n",
       "      <td>8.0</td>\n",
       "      <td>198375.22180</td>\n",
       "      <td>400070</td>\n",
       "    </tr>\n",
       "    <tr>\n",
       "      <th>1</th>\n",
       "      <td>12001001</td>\n",
       "      <td>1</td>\n",
       "      <td>5</td>\n",
       "      <td>None</td>\n",
       "      <td>44</td>\n",
       "      <td>M</td>\n",
       "      <td>M</td>\n",
       "      <td>POSTGRAD</td>\n",
       "      <td>0</td>\n",
       "      <td>None</td>\n",
       "      <td>None</td>\n",
       "      <td>242703.98290</td>\n",
       "      <td>10.0</td>\n",
       "      <td>242703.98290</td>\n",
       "      <td>400070</td>\n",
       "    </tr>\n",
       "    <tr>\n",
       "      <th>2</th>\n",
       "      <td>12001002</td>\n",
       "      <td>1</td>\n",
       "      <td>7</td>\n",
       "      <td>None</td>\n",
       "      <td>50</td>\n",
       "      <td>M</td>\n",
       "      <td>M</td>\n",
       "      <td>GRAD</td>\n",
       "      <td>0</td>\n",
       "      <td>None</td>\n",
       "      <td>None</td>\n",
       "      <td>0.00000</td>\n",
       "      <td>NaN</td>\n",
       "      <td>0.00000</td>\n",
       "      <td>400070</td>\n",
       "    </tr>\n",
       "    <tr>\n",
       "      <th>3</th>\n",
       "      <td>12001003</td>\n",
       "      <td>3</td>\n",
       "      <td>4</td>\n",
       "      <td>None</td>\n",
       "      <td>40</td>\n",
       "      <td>M</td>\n",
       "      <td>M</td>\n",
       "      <td>GRAD</td>\n",
       "      <td>0</td>\n",
       "      <td>None</td>\n",
       "      <td>None</td>\n",
       "      <td>365263.51160</td>\n",
       "      <td>NaN</td>\n",
       "      <td>365263.51610</td>\n",
       "      <td>400070</td>\n",
       "    </tr>\n",
       "    <tr>\n",
       "      <th>4</th>\n",
       "      <td>12001004</td>\n",
       "      <td>3</td>\n",
       "      <td>4</td>\n",
       "      <td>None</td>\n",
       "      <td>27</td>\n",
       "      <td>M</td>\n",
       "      <td>M</td>\n",
       "      <td>GRAD</td>\n",
       "      <td>0</td>\n",
       "      <td>None</td>\n",
       "      <td>None</td>\n",
       "      <td>187342.19900</td>\n",
       "      <td>NaN</td>\n",
       "      <td>187342.19900</td>\n",
       "      <td>400070</td>\n",
       "    </tr>\n",
       "    <tr>\n",
       "      <th>5</th>\n",
       "      <td>12001005</td>\n",
       "      <td>3</td>\n",
       "      <td>4</td>\n",
       "      <td>None</td>\n",
       "      <td>43</td>\n",
       "      <td>M</td>\n",
       "      <td>M</td>\n",
       "      <td>GRAD</td>\n",
       "      <td>0</td>\n",
       "      <td>None</td>\n",
       "      <td>None</td>\n",
       "      <td>53536.20823</td>\n",
       "      <td>NaN</td>\n",
       "      <td>53536.20823</td>\n",
       "      <td>400070</td>\n",
       "    </tr>\n",
       "    <tr>\n",
       "      <th>6</th>\n",
       "      <td>12001006</td>\n",
       "      <td>3</td>\n",
       "      <td>4</td>\n",
       "      <td>None</td>\n",
       "      <td>48</td>\n",
       "      <td>M</td>\n",
       "      <td>M</td>\n",
       "      <td>UG</td>\n",
       "      <td>0</td>\n",
       "      <td>None</td>\n",
       "      <td>None</td>\n",
       "      <td>49842.14981</td>\n",
       "      <td>NaN</td>\n",
       "      <td>49842.14530</td>\n",
       "      <td>400070</td>\n",
       "    </tr>\n",
       "    <tr>\n",
       "      <th>7</th>\n",
       "      <td>12001007</td>\n",
       "      <td>1</td>\n",
       "      <td>5</td>\n",
       "      <td>None</td>\n",
       "      <td>33</td>\n",
       "      <td>M</td>\n",
       "      <td>M</td>\n",
       "      <td>POSTGRAD</td>\n",
       "      <td>0</td>\n",
       "      <td>None</td>\n",
       "      <td>AVP</td>\n",
       "      <td>123370.48370</td>\n",
       "      <td>7.0</td>\n",
       "      <td>123370.48370</td>\n",
       "      <td>400070</td>\n",
       "    </tr>\n",
       "    <tr>\n",
       "      <th>8</th>\n",
       "      <td>12001008</td>\n",
       "      <td>1</td>\n",
       "      <td>4</td>\n",
       "      <td>None</td>\n",
       "      <td>44</td>\n",
       "      <td>M</td>\n",
       "      <td>M</td>\n",
       "      <td>GRAD</td>\n",
       "      <td>0</td>\n",
       "      <td>None</td>\n",
       "      <td>None</td>\n",
       "      <td>183331.98270</td>\n",
       "      <td>NaN</td>\n",
       "      <td>183331.98720</td>\n",
       "      <td>400070</td>\n",
       "    </tr>\n",
       "    <tr>\n",
       "      <th>9</th>\n",
       "      <td>12001009</td>\n",
       "      <td>3</td>\n",
       "      <td>4</td>\n",
       "      <td>None</td>\n",
       "      <td>37</td>\n",
       "      <td>M</td>\n",
       "      <td>M</td>\n",
       "      <td>UG</td>\n",
       "      <td>0</td>\n",
       "      <td>None</td>\n",
       "      <td>None</td>\n",
       "      <td>93803.84407</td>\n",
       "      <td>NaN</td>\n",
       "      <td>93803.83957</td>\n",
       "      <td>400070</td>\n",
       "    </tr>\n",
       "  </tbody>\n",
       "</table>\n",
       "</div>"
      ],
      "text/plain": [
       "   CUSTOMERID  CUST_CONSTTYPE_ID  ...  NETTAKEHOMEINCOME BRANCH_PINCODE\n",
       "0    12001000                  1  ...       198375.22180         400070\n",
       "1    12001001                  1  ...       242703.98290         400070\n",
       "2    12001002                  1  ...            0.00000         400070\n",
       "3    12001003                  3  ...       365263.51610         400070\n",
       "4    12001004                  3  ...       187342.19900         400070\n",
       "5    12001005                  3  ...        53536.20823         400070\n",
       "6    12001006                  3  ...        49842.14530         400070\n",
       "7    12001007                  1  ...       123370.48370         400070\n",
       "8    12001008                  1  ...       183331.98720         400070\n",
       "9    12001009                  3  ...        93803.83957         400070\n",
       "\n",
       "[10 rows x 15 columns]"
      ]
     },
     "execution_count": 5,
     "metadata": {},
     "output_type": "execute_result"
    }
   ],
   "source": [
    "df_Customer.limit(10).toPandas()"
   ]
  },
  {
   "cell_type": "code",
   "execution_count": 0,
   "metadata": {
    "application/vnd.databricks.v1+cell": {
     "cellMetadata": {
      "byteLimit": 2048000,
      "rowLimit": 10000
     },
     "inputWidgets": {},
     "nuid": "cd428097-91bc-4917-84bd-6021bc9f4a3d",
     "showTitle": false,
     "tableResultSettingsMap": {},
     "title": ""
    }
   },
   "outputs": [
    {
     "output_type": "execute_result",
     "data": {
      "text/html": [
       "<div>\n",
       "<style scoped>\n",
       "    .dataframe tbody tr th:only-of-type {\n",
       "        vertical-align: middle;\n",
       "    }\n",
       "\n",
       "    .dataframe tbody tr th {\n",
       "        vertical-align: top;\n",
       "    }\n",
       "\n",
       "    .dataframe thead th {\n",
       "        text-align: right;\n",
       "    }\n",
       "</style>\n",
       "<table border=\"1\" class=\"dataframe\">\n",
       "  <thead>\n",
       "    <tr style=\"text-align: right;\">\n",
       "      <th></th>\n",
       "      <th>TicketId</th>\n",
       "      <th>Type</th>\n",
       "      <th>SubType</th>\n",
       "      <th>Status</th>\n",
       "      <th>Date</th>\n",
       "      <th>Preprocessed_EmailBody</th>\n",
       "      <th>Preprocessed_Subject</th>\n",
       "      <th>Masked_CustomerID</th>\n",
       "      <th>Masked_AgreementID</th>\n",
       "    </tr>\n",
       "  </thead>\n",
       "  <tbody>\n",
       "    <tr>\n",
       "      <th>0</th>\n",
       "      <td>571910</td>\n",
       "      <td>REQUEST</td>\n",
       "      <td>PROVISIONAL IT CERTIFICATE</td>\n",
       "      <td>Close</td>\n",
       "      <td>2019-01-23 16:34:00</td>\n",
       "      <td>hi team, can you please provide me itcertifica...</td>\n",
       "      <td>loan account number - loannumber</td>\n",
       "      <td>12020736</td>\n",
       "      <td>0</td>\n",
       "    </tr>\n",
       "    <tr>\n",
       "      <th>1</th>\n",
       "      <td>572747</td>\n",
       "      <td>REQUEST</td>\n",
       "      <td>SOA</td>\n",
       "      <td>Close</td>\n",
       "      <td>2019-01-24 16:05:00</td>\n",
       "      <td>hi team can you please arrange the certificate...</td>\n",
       "      <td>certificate of interest and principal for home...</td>\n",
       "      <td>12019080</td>\n",
       "      <td>0</td>\n",
       "    </tr>\n",
       "    <tr>\n",
       "      <th>2</th>\n",
       "      <td>4622</td>\n",
       "      <td>General</td>\n",
       "      <td>Others</td>\n",
       "      <td>Close</td>\n",
       "      <td>2016-02-12 13:40:00</td>\n",
       "      <td>None</td>\n",
       "      <td>re: repaysch : loan number loannumber</td>\n",
       "      <td>12004815</td>\n",
       "      <td>0</td>\n",
       "    </tr>\n",
       "    <tr>\n",
       "      <th>3</th>\n",
       "      <td>4674</td>\n",
       "      <td>REQUEST</td>\n",
       "      <td>SOA</td>\n",
       "      <td>Close</td>\n",
       "      <td>2016-02-12 15:41:00</td>\n",
       "      <td>dear sir, you for your promptreply, please not...</td>\n",
       "      <td>re: finalit : loan number loannumber</td>\n",
       "      <td>12005158</td>\n",
       "      <td>11230237</td>\n",
       "    </tr>\n",
       "    <tr>\n",
       "      <th>4</th>\n",
       "      <td>4681</td>\n",
       "      <td>QUERY</td>\n",
       "      <td>CHANGEOFROI</td>\n",
       "      <td>Close</td>\n",
       "      <td>2016-02-12 15:55:00</td>\n",
       "      <td>dear sachin, for your mail. this seems a great...</td>\n",
       "      <td>None</td>\n",
       "      <td>None</td>\n",
       "      <td>None</td>\n",
       "    </tr>\n",
       "    <tr>\n",
       "      <th>5</th>\n",
       "      <td>on wed</td>\n",
       "      <td>feb 99</td>\n",
       "      <td>9999 at 9:99 pm</td>\n",
       "      <td>homeservice &lt; EmailID &gt; wrote:</td>\n",
       "      <td>None</td>\n",
       "      <td>None</td>\n",
       "      <td>None</td>\n",
       "      <td>None</td>\n",
       "      <td>None</td>\n",
       "    </tr>\n",
       "    <tr>\n",
       "      <th>6</th>\n",
       "      <td>dear customer</td>\n",
       "      <td>,re: fw: repaysch : loan number loannumber,120...</td>\n",
       "      <td>None</td>\n",
       "      <td>None</td>\n",
       "      <td>None</td>\n",
       "      <td>None</td>\n",
       "      <td>None</td>\n",
       "      <td>None</td>\n",
       "      <td>None</td>\n",
       "    </tr>\n",
       "    <tr>\n",
       "      <th>7</th>\n",
       "      <td>4736</td>\n",
       "      <td>QUERY</td>\n",
       "      <td>TDSREIMBRELATED</td>\n",
       "      <td>Close</td>\n",
       "      <td>2016-02-12 18:00:00</td>\n",
       "      <td>sir / madam, we have already send tds certific...</td>\n",
       "      <td>re: process for tds refund</td>\n",
       "      <td>12005516</td>\n",
       "      <td>0</td>\n",
       "    </tr>\n",
       "    <tr>\n",
       "      <th>8</th>\n",
       "      <td>4779</td>\n",
       "      <td>REQUEST</td>\n",
       "      <td>FORECLOSURE</td>\n",
       "      <td>Close</td>\n",
       "      <td>2016-02-12 19:36:00</td>\n",
       "      <td>sent from samsung mobile</td>\n",
       "      <td>None</td>\n",
       "      <td>12004239</td>\n",
       "      <td>0</td>\n",
       "    </tr>\n",
       "    <tr>\n",
       "      <th>9</th>\n",
       "      <td>5201</td>\n",
       "      <td>REQUEST</td>\n",
       "      <td>REPAYMENT SCHEDULE</td>\n",
       "      <td>Close</td>\n",
       "      <td>2016-02-13 12:40:00</td>\n",
       "      <td>loannumber \\n</td>\n",
       "      <td>None</td>\n",
       "      <td>None</td>\n",
       "      <td>None</td>\n",
       "    </tr>\n",
       "  </tbody>\n",
       "</table>\n",
       "</div>"
      ],
      "text/plain": [
       "         TicketId  ... Masked_AgreementID\n",
       "0          571910  ...                  0\n",
       "1          572747  ...                  0\n",
       "2            4622  ...                  0\n",
       "3            4674  ...           11230237\n",
       "4            4681  ...               None\n",
       "5          on wed  ...               None\n",
       "6   dear customer  ...               None\n",
       "7            4736  ...                  0\n",
       "8            4779  ...                  0\n",
       "9            5201  ...               None\n",
       "\n",
       "[10 rows x 9 columns]"
      ]
     },
     "execution_count": 6,
     "metadata": {},
     "output_type": "execute_result"
    }
   ],
   "source": [
    "df_RMS_Final.limit(10).toPandas()"
   ]
  },
  {
   "cell_type": "code",
   "execution_count": 0,
   "metadata": {
    "application/vnd.databricks.v1+cell": {
     "cellMetadata": {
      "byteLimit": 2048000,
      "rowLimit": 10000
     },
     "inputWidgets": {},
     "nuid": "3c11e537-f4fb-437d-84b9-c4c30690b83b",
     "showTitle": false,
     "tableResultSettingsMap": {},
     "title": ""
    }
   },
   "outputs": [
    {
     "output_type": "execute_result",
     "data": {
      "text/html": [
       "<div>\n",
       "<style scoped>\n",
       "    .dataframe tbody tr th:only-of-type {\n",
       "        vertical-align: middle;\n",
       "    }\n",
       "\n",
       "    .dataframe tbody tr th {\n",
       "        vertical-align: top;\n",
       "    }\n",
       "\n",
       "    .dataframe thead th {\n",
       "        text-align: right;\n",
       "    }\n",
       "</style>\n",
       "<table border=\"1\" class=\"dataframe\">\n",
       "  <thead>\n",
       "    <tr style=\"text-align: right;\">\n",
       "      <th></th>\n",
       "      <th>AGREEMENTID</th>\n",
       "      <th>CUSTOMERID</th>\n",
       "      <th>LOAN_AMT</th>\n",
       "      <th>NET_DISBURSED_AMT</th>\n",
       "      <th>INTEREST_START_DATE</th>\n",
       "      <th>CURRENT_ROI</th>\n",
       "      <th>ORIGNAL_ROI</th>\n",
       "      <th>CURRENT_TENOR</th>\n",
       "      <th>ORIGNAL_TENOR</th>\n",
       "      <th>DUEDAY</th>\n",
       "      <th>AUTHORIZATIONDATE</th>\n",
       "      <th>CITY</th>\n",
       "      <th>PRE_EMI_DUEAMT</th>\n",
       "      <th>PRE_EMI_RECEIVED_AMT</th>\n",
       "      <th>PRE_EMI_OS_AMOUNT</th>\n",
       "      <th>EMI_DUEAMT</th>\n",
       "      <th>EMI_RECEIVED_AMT</th>\n",
       "      <th>EMI_OS_AMOUNT</th>\n",
       "      <th>EXCESS_AVAILABLE</th>\n",
       "      <th>EXCESS_ADJUSTED_AMT</th>\n",
       "      <th>BALANCE_EXCESS</th>\n",
       "      <th>NET_RECEIVABLE</th>\n",
       "      <th>OUTSTANDING_PRINCIPAL</th>\n",
       "      <th>PAID_PRINCIPAL</th>\n",
       "      <th>PAID_INTEREST</th>\n",
       "      <th>MONTHOPENING</th>\n",
       "      <th>LAST_RECEIPT_DATE</th>\n",
       "      <th>LAST_RECEIPT_AMOUNT</th>\n",
       "      <th>NET_LTV</th>\n",
       "      <th>COMPLETED_TENURE</th>\n",
       "      <th>BALANCE_TENURE</th>\n",
       "      <th>DPD</th>\n",
       "      <th>FOIR</th>\n",
       "      <th>PRODUCT</th>\n",
       "      <th>SCHEMEID</th>\n",
       "      <th>NPA_IN_LAST_MONTH</th>\n",
       "      <th>NPA_IN_CURRENT_MONTH</th>\n",
       "      <th>MOB</th>\n",
       "    </tr>\n",
       "  </thead>\n",
       "  <tbody>\n",
       "    <tr>\n",
       "      <th>0</th>\n",
       "      <td>11220001</td>\n",
       "      <td>12001000</td>\n",
       "      <td>1,17,10,107.24</td>\n",
       "      <td>1,17,10,107.24</td>\n",
       "      <td>30-Aug-10</td>\n",
       "      <td>13.7</td>\n",
       "      <td>10.6</td>\n",
       "      <td>58</td>\n",
       "      <td>120</td>\n",
       "      <td>1</td>\n",
       "      <td>29-Aug-10</td>\n",
       "      <td>MUMBAI</td>\n",
       "      <td>7994.273589</td>\n",
       "      <td>7994.273589</td>\n",
       "      <td>0.0</td>\n",
       "      <td>7.516699e+06</td>\n",
       "      <td>7.332154e+06</td>\n",
       "      <td>184544.39660</td>\n",
       "      <td>29042.458800</td>\n",
       "      <td>29042.458800</td>\n",
       "      <td>0.00000</td>\n",
       "      <td>184544.39660</td>\n",
       "      <td>2.262177e+06</td>\n",
       "      <td>9.447930e+06</td>\n",
       "      <td>2617476.019</td>\n",
       "      <td>9.338009e+06</td>\n",
       "      <td>01-Nov-13</td>\n",
       "      <td>83559.0</td>\n",
       "      <td>40.06</td>\n",
       "      <td>39</td>\n",
       "      <td>19</td>\n",
       "      <td>0</td>\n",
       "      <td>0.6000</td>\n",
       "      <td>HL</td>\n",
       "      <td>10901100</td>\n",
       "      <td>None</td>\n",
       "      <td>None</td>\n",
       "      <td>39</td>\n",
       "    </tr>\n",
       "    <tr>\n",
       "      <th>1</th>\n",
       "      <td>11220002</td>\n",
       "      <td>12001001</td>\n",
       "      <td>1,92,90,253.32</td>\n",
       "      <td>1,92,90,253.32</td>\n",
       "      <td>15-Sep-10</td>\n",
       "      <td>13.7</td>\n",
       "      <td>10.6</td>\n",
       "      <td>137</td>\n",
       "      <td>180</td>\n",
       "      <td>1</td>\n",
       "      <td>15-Sep-10</td>\n",
       "      <td>MUMBAI</td>\n",
       "      <td>100504.575900</td>\n",
       "      <td>100504.575900</td>\n",
       "      <td>0.0</td>\n",
       "      <td>1.061903e+07</td>\n",
       "      <td>1.033958e+07</td>\n",
       "      <td>279448.08460</td>\n",
       "      <td>0.000000</td>\n",
       "      <td>0.000000</td>\n",
       "      <td>0.00000</td>\n",
       "      <td>279448.08460</td>\n",
       "      <td>1.234760e+07</td>\n",
       "      <td>6.942656e+06</td>\n",
       "      <td>4945153.591</td>\n",
       "      <td>1.713861e+07</td>\n",
       "      <td>01-Nov-13</td>\n",
       "      <td>126530.0</td>\n",
       "      <td>84.31</td>\n",
       "      <td>38</td>\n",
       "      <td>99</td>\n",
       "      <td>0</td>\n",
       "      <td>0.6000</td>\n",
       "      <td>HL</td>\n",
       "      <td>10901100</td>\n",
       "      <td>None</td>\n",
       "      <td>None</td>\n",
       "      <td>38</td>\n",
       "    </tr>\n",
       "    <tr>\n",
       "      <th>2</th>\n",
       "      <td>11220003</td>\n",
       "      <td>12001002</td>\n",
       "      <td>40,53,498.66</td>\n",
       "      <td>40,53,498.66</td>\n",
       "      <td>06-Sep-10</td>\n",
       "      <td>17.2</td>\n",
       "      <td>12.5</td>\n",
       "      <td>360</td>\n",
       "      <td>180</td>\n",
       "      <td>5</td>\n",
       "      <td>06-Sep-10</td>\n",
       "      <td>MUMBAI</td>\n",
       "      <td>0.000000</td>\n",
       "      <td>0.000000</td>\n",
       "      <td>0.0</td>\n",
       "      <td>2.439242e+06</td>\n",
       "      <td>2.439242e+06</td>\n",
       "      <td>0.00000</td>\n",
       "      <td>0.441710</td>\n",
       "      <td>0.000000</td>\n",
       "      <td>0.44171</td>\n",
       "      <td>-0.44171</td>\n",
       "      <td>3.944954e+06</td>\n",
       "      <td>1.085444e+05</td>\n",
       "      <td>1549566.273</td>\n",
       "      <td>3.944954e+06</td>\n",
       "      <td>05-Nov-13</td>\n",
       "      <td>30898.0</td>\n",
       "      <td>79.34</td>\n",
       "      <td>38</td>\n",
       "      <td>322</td>\n",
       "      <td>0</td>\n",
       "      <td>0.9100</td>\n",
       "      <td>HL</td>\n",
       "      <td>10901101</td>\n",
       "      <td>None</td>\n",
       "      <td>None</td>\n",
       "      <td>38</td>\n",
       "    </tr>\n",
       "    <tr>\n",
       "      <th>3</th>\n",
       "      <td>11220004</td>\n",
       "      <td>12001003</td>\n",
       "      <td>1,32,57,031.92</td>\n",
       "      <td>1,32,57,031.92</td>\n",
       "      <td>29-Sep-10</td>\n",
       "      <td>15.6</td>\n",
       "      <td>10.9</td>\n",
       "      <td>198</td>\n",
       "      <td>180</td>\n",
       "      <td>5</td>\n",
       "      <td>29-Sep-10</td>\n",
       "      <td>MUMBAI</td>\n",
       "      <td>28441.732660</td>\n",
       "      <td>28441.732660</td>\n",
       "      <td>0.0</td>\n",
       "      <td>7.211965e+06</td>\n",
       "      <td>7.211965e+06</td>\n",
       "      <td>0.00000</td>\n",
       "      <td>0.000000</td>\n",
       "      <td>0.000000</td>\n",
       "      <td>0.00000</td>\n",
       "      <td>0.00000</td>\n",
       "      <td>1.030278e+07</td>\n",
       "      <td>2.954253e+06</td>\n",
       "      <td>4219463.668</td>\n",
       "      <td>1.255472e+07</td>\n",
       "      <td>05-Nov-13</td>\n",
       "      <td>88256.0</td>\n",
       "      <td>86.86</td>\n",
       "      <td>37</td>\n",
       "      <td>161</td>\n",
       "      <td>0</td>\n",
       "      <td>0.9686</td>\n",
       "      <td>HL</td>\n",
       "      <td>10901101</td>\n",
       "      <td>None</td>\n",
       "      <td>None</td>\n",
       "      <td>38</td>\n",
       "    </tr>\n",
       "    <tr>\n",
       "      <th>4</th>\n",
       "      <td>11220005</td>\n",
       "      <td>12001004</td>\n",
       "      <td>1,32,11,403.04</td>\n",
       "      <td>1,32,11,403.04</td>\n",
       "      <td>06-Sep-10</td>\n",
       "      <td>16.5</td>\n",
       "      <td>11.9</td>\n",
       "      <td>142</td>\n",
       "      <td>180</td>\n",
       "      <td>5</td>\n",
       "      <td>06-Sep-10</td>\n",
       "      <td>MUMBAI</td>\n",
       "      <td>0.000000</td>\n",
       "      <td>0.000000</td>\n",
       "      <td>0.0</td>\n",
       "      <td>7.712034e+06</td>\n",
       "      <td>7.712034e+06</td>\n",
       "      <td>0.00000</td>\n",
       "      <td>0.000000</td>\n",
       "      <td>0.000000</td>\n",
       "      <td>0.00000</td>\n",
       "      <td>0.00000</td>\n",
       "      <td>8.479158e+06</td>\n",
       "      <td>4.732245e+06</td>\n",
       "      <td>3812974.258</td>\n",
       "      <td>1.178201e+07</td>\n",
       "      <td>05-Nov-13</td>\n",
       "      <td>91892.0</td>\n",
       "      <td>40.93</td>\n",
       "      <td>38</td>\n",
       "      <td>104</td>\n",
       "      <td>0</td>\n",
       "      <td>0.7300</td>\n",
       "      <td>HL</td>\n",
       "      <td>10901101</td>\n",
       "      <td>None</td>\n",
       "      <td>None</td>\n",
       "      <td>38</td>\n",
       "    </tr>\n",
       "    <tr>\n",
       "      <th>5</th>\n",
       "      <td>11220006</td>\n",
       "      <td>12001005</td>\n",
       "      <td>39,33,395.00</td>\n",
       "      <td>39,33,395.00</td>\n",
       "      <td>01-Nov-10</td>\n",
       "      <td>16.2</td>\n",
       "      <td>11.5</td>\n",
       "      <td>359</td>\n",
       "      <td>180</td>\n",
       "      <td>5</td>\n",
       "      <td>02-Nov-10</td>\n",
       "      <td>MUMBAI</td>\n",
       "      <td>5947.630536</td>\n",
       "      <td>5947.630536</td>\n",
       "      <td>0.0</td>\n",
       "      <td>2.147360e+06</td>\n",
       "      <td>2.147360e+06</td>\n",
       "      <td>0.00000</td>\n",
       "      <td>0.000000</td>\n",
       "      <td>0.000000</td>\n",
       "      <td>0.00000</td>\n",
       "      <td>0.00000</td>\n",
       "      <td>3.830337e+06</td>\n",
       "      <td>1.030583e+05</td>\n",
       "      <td>1360684.105</td>\n",
       "      <td>3.830337e+06</td>\n",
       "      <td>05-Nov-13</td>\n",
       "      <td>28518.0</td>\n",
       "      <td>50.89</td>\n",
       "      <td>36</td>\n",
       "      <td>323</td>\n",
       "      <td>0</td>\n",
       "      <td>0.7200</td>\n",
       "      <td>HL</td>\n",
       "      <td>10901101</td>\n",
       "      <td>None</td>\n",
       "      <td>None</td>\n",
       "      <td>36</td>\n",
       "    </tr>\n",
       "    <tr>\n",
       "      <th>6</th>\n",
       "      <td>11220007</td>\n",
       "      <td>12001006</td>\n",
       "      <td>61,55,312.78</td>\n",
       "      <td>61,55,312.78</td>\n",
       "      <td>11-Oct-10</td>\n",
       "      <td>16.5</td>\n",
       "      <td>12.5</td>\n",
       "      <td>262</td>\n",
       "      <td>180</td>\n",
       "      <td>5</td>\n",
       "      <td>11-Oct-10</td>\n",
       "      <td>MUMBAI</td>\n",
       "      <td>451447.905800</td>\n",
       "      <td>451447.905800</td>\n",
       "      <td>0.0</td>\n",
       "      <td>2.921729e+06</td>\n",
       "      <td>2.921729e+06</td>\n",
       "      <td>0.00000</td>\n",
       "      <td>6133.148904</td>\n",
       "      <td>6133.148904</td>\n",
       "      <td>0.00000</td>\n",
       "      <td>0.00000</td>\n",
       "      <td>5.929700e+06</td>\n",
       "      <td>2.256132e+05</td>\n",
       "      <td>2067353.451</td>\n",
       "      <td>5.929700e+06</td>\n",
       "      <td>05-Nov-13</td>\n",
       "      <td>47247.0</td>\n",
       "      <td>45.32</td>\n",
       "      <td>28</td>\n",
       "      <td>234</td>\n",
       "      <td>0</td>\n",
       "      <td>1.2300</td>\n",
       "      <td>HL</td>\n",
       "      <td>10901101</td>\n",
       "      <td>None</td>\n",
       "      <td>None</td>\n",
       "      <td>37</td>\n",
       "    </tr>\n",
       "    <tr>\n",
       "      <th>7</th>\n",
       "      <td>11220008</td>\n",
       "      <td>12001007</td>\n",
       "      <td>1,00,22,587.71</td>\n",
       "      <td>1,00,22,587.71</td>\n",
       "      <td>06-Oct-10</td>\n",
       "      <td>13.7</td>\n",
       "      <td>10.6</td>\n",
       "      <td>194</td>\n",
       "      <td>180</td>\n",
       "      <td>1</td>\n",
       "      <td>06-Oct-10</td>\n",
       "      <td>THANE</td>\n",
       "      <td>60322.180780</td>\n",
       "      <td>60322.180780</td>\n",
       "      <td>0.0</td>\n",
       "      <td>5.372119e+06</td>\n",
       "      <td>5.226927e+06</td>\n",
       "      <td>145192.41700</td>\n",
       "      <td>0.000000</td>\n",
       "      <td>0.000000</td>\n",
       "      <td>0.00000</td>\n",
       "      <td>145192.41700</td>\n",
       "      <td>8.211513e+06</td>\n",
       "      <td>1.811075e+06</td>\n",
       "      <td>2984047.084</td>\n",
       "      <td>9.412549e+06</td>\n",
       "      <td>01-Nov-13</td>\n",
       "      <td>65741.0</td>\n",
       "      <td>84.63</td>\n",
       "      <td>37</td>\n",
       "      <td>157</td>\n",
       "      <td>0</td>\n",
       "      <td>0.6000</td>\n",
       "      <td>HL</td>\n",
       "      <td>10901100</td>\n",
       "      <td>None</td>\n",
       "      <td>None</td>\n",
       "      <td>37</td>\n",
       "    </tr>\n",
       "    <tr>\n",
       "      <th>8</th>\n",
       "      <td>11220009</td>\n",
       "      <td>12001008</td>\n",
       "      <td>94,99,284.03</td>\n",
       "      <td>94,99,284.03</td>\n",
       "      <td>10-Nov-10</td>\n",
       "      <td>18.9</td>\n",
       "      <td>13.6</td>\n",
       "      <td>287</td>\n",
       "      <td>180</td>\n",
       "      <td>5</td>\n",
       "      <td>05-Nov-10</td>\n",
       "      <td>MUMBAI</td>\n",
       "      <td>188502.121800</td>\n",
       "      <td>188502.121800</td>\n",
       "      <td>0.0</td>\n",
       "      <td>5.810343e+06</td>\n",
       "      <td>5.795245e+06</td>\n",
       "      <td>15097.66147</td>\n",
       "      <td>171229.036600</td>\n",
       "      <td>171229.036600</td>\n",
       "      <td>0.00000</td>\n",
       "      <td>15097.66147</td>\n",
       "      <td>9.228138e+06</td>\n",
       "      <td>2.711462e+05</td>\n",
       "      <td>3796394.128</td>\n",
       "      <td>9.228138e+06</td>\n",
       "      <td>05-Nov-13</td>\n",
       "      <td>77530.0</td>\n",
       "      <td>52.34</td>\n",
       "      <td>34</td>\n",
       "      <td>253</td>\n",
       "      <td>25</td>\n",
       "      <td>0.6100</td>\n",
       "      <td>LAP</td>\n",
       "      <td>10901109</td>\n",
       "      <td>None</td>\n",
       "      <td>None</td>\n",
       "      <td>36</td>\n",
       "    </tr>\n",
       "    <tr>\n",
       "      <th>9</th>\n",
       "      <td>11220010</td>\n",
       "      <td>12001009</td>\n",
       "      <td>77,55,937.31</td>\n",
       "      <td>77,55,937.31</td>\n",
       "      <td>26-Oct-10</td>\n",
       "      <td>15.6</td>\n",
       "      <td>10.9</td>\n",
       "      <td>341</td>\n",
       "      <td>180</td>\n",
       "      <td>5</td>\n",
       "      <td>26-Oct-10</td>\n",
       "      <td>MUMBAI</td>\n",
       "      <td>27732.787460</td>\n",
       "      <td>27732.787460</td>\n",
       "      <td>0.0</td>\n",
       "      <td>4.117673e+06</td>\n",
       "      <td>4.117673e+06</td>\n",
       "      <td>0.00000</td>\n",
       "      <td>0.000000</td>\n",
       "      <td>0.000000</td>\n",
       "      <td>0.00000</td>\n",
       "      <td>0.00000</td>\n",
       "      <td>7.511708e+06</td>\n",
       "      <td>2.442289e+05</td>\n",
       "      <td>2573671.750</td>\n",
       "      <td>7.511708e+06</td>\n",
       "      <td>05-Nov-13</td>\n",
       "      <td>54433.0</td>\n",
       "      <td>30.94</td>\n",
       "      <td>36</td>\n",
       "      <td>305</td>\n",
       "      <td>0</td>\n",
       "      <td>0.8300</td>\n",
       "      <td>HL</td>\n",
       "      <td>10901101</td>\n",
       "      <td>None</td>\n",
       "      <td>None</td>\n",
       "      <td>37</td>\n",
       "    </tr>\n",
       "  </tbody>\n",
       "</table>\n",
       "</div>"
      ],
      "text/plain": [
       "   AGREEMENTID CUSTOMERID  ... NPA_IN_CURRENT_MONTH MOB\n",
       "0     11220001   12001000  ...                 None  39\n",
       "1     11220002   12001001  ...                 None  38\n",
       "2     11220003   12001002  ...                 None  38\n",
       "3     11220004   12001003  ...                 None  38\n",
       "4     11220005   12001004  ...                 None  38\n",
       "5     11220006   12001005  ...                 None  36\n",
       "6     11220007   12001006  ...                 None  37\n",
       "7     11220008   12001007  ...                 None  37\n",
       "8     11220009   12001008  ...                 None  36\n",
       "9     11220010   12001009  ...                 None  37\n",
       "\n",
       "[10 rows x 38 columns]"
      ]
     },
     "execution_count": 7,
     "metadata": {},
     "output_type": "execute_result"
    }
   ],
   "source": [
    "df_lms.limit(10).toPandas()"
   ]
  },
  {
   "cell_type": "code",
   "execution_count": 0,
   "metadata": {
    "application/vnd.databricks.v1+cell": {
     "cellMetadata": {
      "byteLimit": 2048000,
      "rowLimit": 10000
     },
     "inputWidgets": {},
     "nuid": "ad627fde-f7b5-46b0-858c-62d3d82351bc",
     "showTitle": false,
     "tableResultSettingsMap": {},
     "title": ""
    }
   },
   "outputs": [],
   "source": [
    "df_lms = df_lms.repartition(6)"
   ]
  },
  {
   "cell_type": "code",
   "execution_count": 0,
   "metadata": {
    "application/vnd.databricks.v1+cell": {
     "cellMetadata": {
      "byteLimit": 2048000,
      "rowLimit": 10000
     },
     "inputWidgets": {},
     "nuid": "04a52e7e-4e11-4d03-b167-ce1953b0dfef",
     "showTitle": false,
     "tableResultSettingsMap": {},
     "title": ""
    }
   },
   "outputs": [
    {
     "output_type": "execute_result",
     "data": {
      "text/html": [
       "<div>\n",
       "<style scoped>\n",
       "    .dataframe tbody tr th:only-of-type {\n",
       "        vertical-align: middle;\n",
       "    }\n",
       "\n",
       "    .dataframe tbody tr th {\n",
       "        vertical-align: top;\n",
       "    }\n",
       "\n",
       "    .dataframe thead th {\n",
       "        text-align: right;\n",
       "    }\n",
       "</style>\n",
       "<table border=\"1\" class=\"dataframe\">\n",
       "  <thead>\n",
       "    <tr style=\"text-align: right;\">\n",
       "      <th></th>\n",
       "      <th>AGREEMENTID</th>\n",
       "      <th>CUSTOMERID</th>\n",
       "      <th>LOAN_AMT</th>\n",
       "      <th>NET_DISBURSED_AMT</th>\n",
       "      <th>INTEREST_START_DATE</th>\n",
       "      <th>CURRENT_ROI</th>\n",
       "      <th>ORIGNAL_ROI</th>\n",
       "      <th>CURRENT_TENOR</th>\n",
       "      <th>ORIGNAL_TENOR</th>\n",
       "      <th>DUEDAY</th>\n",
       "      <th>AUTHORIZATIONDATE</th>\n",
       "      <th>CITY</th>\n",
       "      <th>PRE_EMI_DUEAMT</th>\n",
       "      <th>PRE_EMI_RECEIVED_AMT</th>\n",
       "      <th>PRE_EMI_OS_AMOUNT</th>\n",
       "      <th>EMI_DUEAMT</th>\n",
       "      <th>EMI_RECEIVED_AMT</th>\n",
       "      <th>EMI_OS_AMOUNT</th>\n",
       "      <th>EXCESS_AVAILABLE</th>\n",
       "      <th>EXCESS_ADJUSTED_AMT</th>\n",
       "      <th>BALANCE_EXCESS</th>\n",
       "      <th>NET_RECEIVABLE</th>\n",
       "      <th>OUTSTANDING_PRINCIPAL</th>\n",
       "      <th>PAID_PRINCIPAL</th>\n",
       "      <th>PAID_INTEREST</th>\n",
       "      <th>MONTHOPENING</th>\n",
       "      <th>LAST_RECEIPT_DATE</th>\n",
       "      <th>LAST_RECEIPT_AMOUNT</th>\n",
       "      <th>NET_LTV</th>\n",
       "      <th>COMPLETED_TENURE</th>\n",
       "      <th>BALANCE_TENURE</th>\n",
       "      <th>DPD</th>\n",
       "      <th>FOIR</th>\n",
       "      <th>PRODUCT</th>\n",
       "      <th>SCHEMEID</th>\n",
       "      <th>NPA_IN_LAST_MONTH</th>\n",
       "      <th>NPA_IN_CURRENT_MONTH</th>\n",
       "      <th>MOB</th>\n",
       "    </tr>\n",
       "  </thead>\n",
       "  <tbody>\n",
       "    <tr>\n",
       "      <th>0</th>\n",
       "      <td>11220001</td>\n",
       "      <td>12001000</td>\n",
       "      <td>1,17,10,107.24</td>\n",
       "      <td>1,17,10,107.24</td>\n",
       "      <td>30-Aug-10</td>\n",
       "      <td>13.4</td>\n",
       "      <td>10.6</td>\n",
       "      <td>58</td>\n",
       "      <td>120</td>\n",
       "      <td>1</td>\n",
       "      <td>29-Aug-10</td>\n",
       "      <td>MUMBAI</td>\n",
       "      <td>7994.273589</td>\n",
       "      <td>7994.273589</td>\n",
       "      <td>0.0</td>\n",
       "      <td>8439420.496</td>\n",
       "      <td>8254876.099</td>\n",
       "      <td>184544.3966</td>\n",
       "      <td>2.135869e+05</td>\n",
       "      <td>2.135869e+05</td>\n",
       "      <td>0.00000</td>\n",
       "      <td>184544.39660</td>\n",
       "      <td>1727712.375</td>\n",
       "      <td>9.982395e+06</td>\n",
       "      <td>2710245.455</td>\n",
       "      <td>8.803545e+06</td>\n",
       "      <td>01-Apr-14</td>\n",
       "      <td>83559.0</td>\n",
       "      <td>40.06</td>\n",
       "      <td>44</td>\n",
       "      <td>14</td>\n",
       "      <td>0</td>\n",
       "      <td>0.60</td>\n",
       "      <td>HL</td>\n",
       "      <td>10901100</td>\n",
       "      <td>None</td>\n",
       "      <td>None</td>\n",
       "      <td>44</td>\n",
       "    </tr>\n",
       "    <tr>\n",
       "      <th>1</th>\n",
       "      <td>11220003</td>\n",
       "      <td>12001002</td>\n",
       "      <td>40,53,498.66</td>\n",
       "      <td>40,53,498.66</td>\n",
       "      <td>06-Sep-10</td>\n",
       "      <td>16.9</td>\n",
       "      <td>12.5</td>\n",
       "      <td>329</td>\n",
       "      <td>180</td>\n",
       "      <td>5</td>\n",
       "      <td>06-Sep-10</td>\n",
       "      <td>MUMBAI</td>\n",
       "      <td>0.000000</td>\n",
       "      <td>0.000000</td>\n",
       "      <td>0.0</td>\n",
       "      <td>4145237.874</td>\n",
       "      <td>4145237.874</td>\n",
       "      <td>0.0000</td>\n",
       "      <td>6.824028e+04</td>\n",
       "      <td>6.823984e+04</td>\n",
       "      <td>0.44171</td>\n",
       "      <td>-0.44171</td>\n",
       "      <td>3910889.731</td>\n",
       "      <td>1.426089e+05</td>\n",
       "      <td>2675177.662</td>\n",
       "      <td>3.910890e+06</td>\n",
       "      <td>05-Dec-15</td>\n",
       "      <td>30898.0</td>\n",
       "      <td>79.34</td>\n",
       "      <td>63</td>\n",
       "      <td>266</td>\n",
       "      <td>0</td>\n",
       "      <td>0.91</td>\n",
       "      <td>HL</td>\n",
       "      <td>10901101</td>\n",
       "      <td>None</td>\n",
       "      <td>None</td>\n",
       "      <td>63</td>\n",
       "    </tr>\n",
       "    <tr>\n",
       "      <th>2</th>\n",
       "      <td>11220003</td>\n",
       "      <td>12001002</td>\n",
       "      <td>40,53,498.66</td>\n",
       "      <td>40,53,498.66</td>\n",
       "      <td>06-Sep-10</td>\n",
       "      <td>16.9</td>\n",
       "      <td>12.5</td>\n",
       "      <td>329</td>\n",
       "      <td>180</td>\n",
       "      <td>5</td>\n",
       "      <td>06-Sep-10</td>\n",
       "      <td>MUMBAI</td>\n",
       "      <td>0.000000</td>\n",
       "      <td>0.000000</td>\n",
       "      <td>0.0</td>\n",
       "      <td>4554676.913</td>\n",
       "      <td>4554676.913</td>\n",
       "      <td>0.0000</td>\n",
       "      <td>6.825132e+04</td>\n",
       "      <td>6.823984e+04</td>\n",
       "      <td>11.48447</td>\n",
       "      <td>-11.48447</td>\n",
       "      <td>3896889.412</td>\n",
       "      <td>1.566092e+05</td>\n",
       "      <td>2939499.569</td>\n",
       "      <td>3.896889e+06</td>\n",
       "      <td>08-Jun-16</td>\n",
       "      <td>580.0</td>\n",
       "      <td>79.34</td>\n",
       "      <td>69</td>\n",
       "      <td>260</td>\n",
       "      <td>0</td>\n",
       "      <td>0.91</td>\n",
       "      <td>HL</td>\n",
       "      <td>10901101</td>\n",
       "      <td>None</td>\n",
       "      <td>None</td>\n",
       "      <td>69</td>\n",
       "    </tr>\n",
       "    <tr>\n",
       "      <th>3</th>\n",
       "      <td>11220003</td>\n",
       "      <td>12001002</td>\n",
       "      <td>40,53,498.66</td>\n",
       "      <td>40,53,498.66</td>\n",
       "      <td>06-Sep-10</td>\n",
       "      <td>17.2</td>\n",
       "      <td>12.5</td>\n",
       "      <td>360</td>\n",
       "      <td>180</td>\n",
       "      <td>5</td>\n",
       "      <td>06-Sep-10</td>\n",
       "      <td>MUMBAI</td>\n",
       "      <td>0.000000</td>\n",
       "      <td>0.000000</td>\n",
       "      <td>0.0</td>\n",
       "      <td>2575721.561</td>\n",
       "      <td>2575721.561</td>\n",
       "      <td>0.0000</td>\n",
       "      <td>4.417104e-01</td>\n",
       "      <td>0.000000e+00</td>\n",
       "      <td>0.44171</td>\n",
       "      <td>-0.44171</td>\n",
       "      <td>3942571.847</td>\n",
       "      <td>1.109268e+05</td>\n",
       "      <td>1639957.912</td>\n",
       "      <td>3.942572e+06</td>\n",
       "      <td>05-Jan-14</td>\n",
       "      <td>30898.0</td>\n",
       "      <td>79.34</td>\n",
       "      <td>40</td>\n",
       "      <td>320</td>\n",
       "      <td>0</td>\n",
       "      <td>0.91</td>\n",
       "      <td>HL</td>\n",
       "      <td>10901101</td>\n",
       "      <td>None</td>\n",
       "      <td>None</td>\n",
       "      <td>40</td>\n",
       "    </tr>\n",
       "    <tr>\n",
       "      <th>4</th>\n",
       "      <td>11220003</td>\n",
       "      <td>12001002</td>\n",
       "      <td>40,53,498.66</td>\n",
       "      <td>40,53,498.66</td>\n",
       "      <td>06-Sep-10</td>\n",
       "      <td>17.2</td>\n",
       "      <td>12.5</td>\n",
       "      <td>360</td>\n",
       "      <td>180</td>\n",
       "      <td>5</td>\n",
       "      <td>06-Sep-10</td>\n",
       "      <td>MUMBAI</td>\n",
       "      <td>0.000000</td>\n",
       "      <td>0.000000</td>\n",
       "      <td>0.0</td>\n",
       "      <td>3053400.439</td>\n",
       "      <td>3053400.439</td>\n",
       "      <td>0.0000</td>\n",
       "      <td>6.824028e+04</td>\n",
       "      <td>6.823984e+04</td>\n",
       "      <td>0.44171</td>\n",
       "      <td>-0.44171</td>\n",
       "      <td>3933793.500</td>\n",
       "      <td>1.197052e+05</td>\n",
       "      <td>1955888.829</td>\n",
       "      <td>3.933794e+06</td>\n",
       "      <td>05-Aug-14</td>\n",
       "      <td>30898.0</td>\n",
       "      <td>79.34</td>\n",
       "      <td>47</td>\n",
       "      <td>313</td>\n",
       "      <td>0</td>\n",
       "      <td>0.91</td>\n",
       "      <td>HL</td>\n",
       "      <td>10901101</td>\n",
       "      <td>None</td>\n",
       "      <td>None</td>\n",
       "      <td>47</td>\n",
       "    </tr>\n",
       "    <tr>\n",
       "      <th>5</th>\n",
       "      <td>11220003</td>\n",
       "      <td>12001002</td>\n",
       "      <td>40,53,498.66</td>\n",
       "      <td>40,53,498.66</td>\n",
       "      <td>06-Sep-10</td>\n",
       "      <td>17.2</td>\n",
       "      <td>12.5</td>\n",
       "      <td>360</td>\n",
       "      <td>180</td>\n",
       "      <td>5</td>\n",
       "      <td>06-Sep-10</td>\n",
       "      <td>MUMBAI</td>\n",
       "      <td>0.000000</td>\n",
       "      <td>0.000000</td>\n",
       "      <td>0.0</td>\n",
       "      <td>3462839.477</td>\n",
       "      <td>3462839.477</td>\n",
       "      <td>0.0000</td>\n",
       "      <td>6.824028e+04</td>\n",
       "      <td>6.823984e+04</td>\n",
       "      <td>0.44171</td>\n",
       "      <td>-0.44171</td>\n",
       "      <td>3925691.007</td>\n",
       "      <td>1.278077e+05</td>\n",
       "      <td>2226108.561</td>\n",
       "      <td>3.925691e+06</td>\n",
       "      <td>05-Feb-15</td>\n",
       "      <td>30898.0</td>\n",
       "      <td>79.34</td>\n",
       "      <td>53</td>\n",
       "      <td>307</td>\n",
       "      <td>0</td>\n",
       "      <td>0.91</td>\n",
       "      <td>HL</td>\n",
       "      <td>10901101</td>\n",
       "      <td>None</td>\n",
       "      <td>None</td>\n",
       "      <td>53</td>\n",
       "    </tr>\n",
       "    <tr>\n",
       "      <th>6</th>\n",
       "      <td>11220005</td>\n",
       "      <td>12001004</td>\n",
       "      <td>1,32,11,403.04</td>\n",
       "      <td>1,32,11,403.04</td>\n",
       "      <td>06-Sep-10</td>\n",
       "      <td>16.5</td>\n",
       "      <td>11.9</td>\n",
       "      <td>142</td>\n",
       "      <td>180</td>\n",
       "      <td>5</td>\n",
       "      <td>06-Sep-10</td>\n",
       "      <td>MUMBAI</td>\n",
       "      <td>0.000000</td>\n",
       "      <td>0.000000</td>\n",
       "      <td>0.0</td>\n",
       "      <td>7712033.895</td>\n",
       "      <td>7712033.895</td>\n",
       "      <td>0.0000</td>\n",
       "      <td>0.000000e+00</td>\n",
       "      <td>0.000000e+00</td>\n",
       "      <td>0.00000</td>\n",
       "      <td>0.00000</td>\n",
       "      <td>8479157.739</td>\n",
       "      <td>4.732245e+06</td>\n",
       "      <td>3812974.258</td>\n",
       "      <td>1.178201e+07</td>\n",
       "      <td>05-Nov-13</td>\n",
       "      <td>91892.0</td>\n",
       "      <td>40.93</td>\n",
       "      <td>38</td>\n",
       "      <td>104</td>\n",
       "      <td>0</td>\n",
       "      <td>0.73</td>\n",
       "      <td>HL</td>\n",
       "      <td>10901101</td>\n",
       "      <td>None</td>\n",
       "      <td>None</td>\n",
       "      <td>38</td>\n",
       "    </tr>\n",
       "    <tr>\n",
       "      <th>7</th>\n",
       "      <td>11220005</td>\n",
       "      <td>12001004</td>\n",
       "      <td>1,32,11,403.04</td>\n",
       "      <td>1,32,11,403.04</td>\n",
       "      <td>06-Sep-10</td>\n",
       "      <td>16.5</td>\n",
       "      <td>11.9</td>\n",
       "      <td>142</td>\n",
       "      <td>180</td>\n",
       "      <td>5</td>\n",
       "      <td>06-Sep-10</td>\n",
       "      <td>MUMBAI</td>\n",
       "      <td>0.000000</td>\n",
       "      <td>0.000000</td>\n",
       "      <td>0.0</td>\n",
       "      <td>9132671.717</td>\n",
       "      <td>9132671.717</td>\n",
       "      <td>0.0000</td>\n",
       "      <td>2.029483e+05</td>\n",
       "      <td>2.029483e+05</td>\n",
       "      <td>0.00000</td>\n",
       "      <td>0.00000</td>\n",
       "      <td>8158355.433</td>\n",
       "      <td>5.053048e+06</td>\n",
       "      <td>4457871.468</td>\n",
       "      <td>1.146121e+07</td>\n",
       "      <td>05-Jun-14</td>\n",
       "      <td>91892.0</td>\n",
       "      <td>40.93</td>\n",
       "      <td>45</td>\n",
       "      <td>97</td>\n",
       "      <td>0</td>\n",
       "      <td>0.73</td>\n",
       "      <td>HL</td>\n",
       "      <td>10901101</td>\n",
       "      <td>None</td>\n",
       "      <td>None</td>\n",
       "      <td>45</td>\n",
       "    </tr>\n",
       "    <tr>\n",
       "      <th>8</th>\n",
       "      <td>11220006</td>\n",
       "      <td>12001005</td>\n",
       "      <td>39,33,395.00</td>\n",
       "      <td>39,33,395.00</td>\n",
       "      <td>01-Nov-10</td>\n",
       "      <td>15.9</td>\n",
       "      <td>11.5</td>\n",
       "      <td>329</td>\n",
       "      <td>180</td>\n",
       "      <td>5</td>\n",
       "      <td>02-Nov-10</td>\n",
       "      <td>MUMBAI</td>\n",
       "      <td>5947.630536</td>\n",
       "      <td>5947.630536</td>\n",
       "      <td>0.0</td>\n",
       "      <td>3760720.137</td>\n",
       "      <td>3760720.137</td>\n",
       "      <td>0.0000</td>\n",
       "      <td>1.179716e+06</td>\n",
       "      <td>1.179716e+06</td>\n",
       "      <td>0.00000</td>\n",
       "      <td>0.00000</td>\n",
       "      <td>3037664.797</td>\n",
       "      <td>8.957302e+05</td>\n",
       "      <td>2415365.678</td>\n",
       "      <td>3.788313e+06</td>\n",
       "      <td>05-Feb-16</td>\n",
       "      <td>22878.0</td>\n",
       "      <td>50.89</td>\n",
       "      <td>63</td>\n",
       "      <td>266</td>\n",
       "      <td>0</td>\n",
       "      <td>0.72</td>\n",
       "      <td>HL</td>\n",
       "      <td>10901101</td>\n",
       "      <td>None</td>\n",
       "      <td>None</td>\n",
       "      <td>63</td>\n",
       "    </tr>\n",
       "    <tr>\n",
       "      <th>9</th>\n",
       "      <td>11220006</td>\n",
       "      <td>12001005</td>\n",
       "      <td>39,33,395.00</td>\n",
       "      <td>39,33,395.00</td>\n",
       "      <td>01-Nov-10</td>\n",
       "      <td>15.9</td>\n",
       "      <td>11.5</td>\n",
       "      <td>329</td>\n",
       "      <td>180</td>\n",
       "      <td>5</td>\n",
       "      <td>02-Nov-10</td>\n",
       "      <td>MUMBAI</td>\n",
       "      <td>5947.630536</td>\n",
       "      <td>5947.630536</td>\n",
       "      <td>0.0</td>\n",
       "      <td>4063883.653</td>\n",
       "      <td>4063883.653</td>\n",
       "      <td>0.0000</td>\n",
       "      <td>1.179716e+06</td>\n",
       "      <td>1.179716e+06</td>\n",
       "      <td>0.00000</td>\n",
       "      <td>0.00000</td>\n",
       "      <td>3024901.201</td>\n",
       "      <td>9.084938e+05</td>\n",
       "      <td>2608681.953</td>\n",
       "      <td>3.775549e+06</td>\n",
       "      <td>05-Aug-16</td>\n",
       "      <td>22878.0</td>\n",
       "      <td>50.89</td>\n",
       "      <td>69</td>\n",
       "      <td>260</td>\n",
       "      <td>0</td>\n",
       "      <td>0.72</td>\n",
       "      <td>HL</td>\n",
       "      <td>10901101</td>\n",
       "      <td>None</td>\n",
       "      <td>None</td>\n",
       "      <td>69</td>\n",
       "    </tr>\n",
       "  </tbody>\n",
       "</table>\n",
       "</div>"
      ],
      "text/plain": [
       "   AGREEMENTID CUSTOMERID  ... NPA_IN_CURRENT_MONTH MOB\n",
       "0     11220001   12001000  ...                 None  44\n",
       "1     11220003   12001002  ...                 None  63\n",
       "2     11220003   12001002  ...                 None  69\n",
       "3     11220003   12001002  ...                 None  40\n",
       "4     11220003   12001002  ...                 None  47\n",
       "5     11220003   12001002  ...                 None  53\n",
       "6     11220005   12001004  ...                 None  38\n",
       "7     11220005   12001004  ...                 None  45\n",
       "8     11220006   12001005  ...                 None  63\n",
       "9     11220006   12001005  ...                 None  69\n",
       "\n",
       "[10 rows x 38 columns]"
      ]
     },
     "execution_count": 9,
     "metadata": {},
     "output_type": "execute_result"
    }
   ],
   "source": [
    "df_lms.limit(10).toPandas()"
   ]
  },
  {
   "cell_type": "code",
   "execution_count": 0,
   "metadata": {
    "application/vnd.databricks.v1+cell": {
     "cellMetadata": {
      "byteLimit": 2048000,
      "rowLimit": 10000
     },
     "inputWidgets": {},
     "nuid": "3b1d3ef0-96d5-4098-a6e6-59f6cb4e537f",
     "showTitle": false,
     "tableResultSettingsMap": {},
     "title": ""
    }
   },
   "outputs": [
    {
     "output_type": "stream",
     "name": "stdout",
     "output_type": "stream",
     "text": [
      "['AGREEMENTID', 'CUSTOMERID', 'LOAN_AMT', 'NET_DISBURSED_AMT', 'INTEREST_START_DATE', 'CURRENT_ROI', 'ORIGNAL_ROI', 'CURRENT_TENOR', 'ORIGNAL_TENOR', 'DUEDAY', 'AUTHORIZATIONDATE', 'CITY', 'PRE_EMI_DUEAMT', 'PRE_EMI_RECEIVED_AMT', 'PRE_EMI_OS_AMOUNT', 'EMI_DUEAMT', 'EMI_RECEIVED_AMT', 'EMI_OS_AMOUNT', 'EXCESS_AVAILABLE', 'EXCESS_ADJUSTED_AMT', 'BALANCE_EXCESS', 'NET_RECEIVABLE', 'OUTSTANDING_PRINCIPAL', 'PAID_PRINCIPAL', 'PAID_INTEREST', 'MONTHOPENING', 'LAST_RECEIPT_DATE', 'LAST_RECEIPT_AMOUNT', 'NET_LTV', 'COMPLETED_TENURE', 'BALANCE_TENURE', 'DPD', 'FOIR', 'PRODUCT', 'SCHEMEID', 'NPA_IN_LAST_MONTH', 'NPA_IN_CURRENT_MONTH', 'MOB']\n"
     ]
    }
   ],
   "source": [
    "print(df_lms.columns)"
   ]
  },
  {
   "cell_type": "code",
   "execution_count": 0,
   "metadata": {
    "application/vnd.databricks.v1+cell": {
     "cellMetadata": {
      "byteLimit": 2048000,
      "rowLimit": 10000
     },
     "inputWidgets": {},
     "nuid": "f4a1970b-c97b-4d5a-83fb-b568657ac2df",
     "showTitle": false,
     "tableResultSettingsMap": {},
     "title": ""
    }
   },
   "outputs": [
    {
     "output_type": "stream",
     "name": "stdout",
     "output_type": "stream",
     "text": [
      "['CUSTOMERID', 'CUST_CONSTTYPE_ID', 'CUST_CATEGORYID', 'PROFESSION', 'AGE', 'SEX', 'MARITAL_STATUS', 'QUALIFICATION', 'NO_OF_DEPENDENT', 'OCCUPATION', 'POSITION', 'GROSS_INCOME', 'PRE_JOBYEARS', 'NETTAKEHOMEINCOME', 'BRANCH_PINCODE']\n"
     ]
    }
   ],
   "source": [
    "print(df_Customer.columns)"
   ]
  },
  {
   "cell_type": "code",
   "execution_count": 0,
   "metadata": {
    "application/vnd.databricks.v1+cell": {
     "cellMetadata": {
      "byteLimit": 2048000,
      "rowLimit": 10000
     },
     "inputWidgets": {},
     "nuid": "ebf36b58-4634-494c-b9aa-17c9abc92b5e",
     "showTitle": false,
     "tableResultSettingsMap": {},
     "title": ""
    }
   },
   "outputs": [
    {
     "output_type": "stream",
     "name": "stdout",
     "output_type": "stream",
     "text": [
      "DataFrame[TicketId: string, Type: string, SubType: string, Status: string, Date: string, Preprocessed_EmailBody: string, Preprocessed_Subject: string, Masked_CustomerID: string, Masked_AgreementID: string]\n"
     ]
    }
   ],
   "source": [
    "print(df_RMS_Final)"
   ]
  },
  {
   "cell_type": "code",
   "execution_count": 0,
   "metadata": {
    "application/vnd.databricks.v1+cell": {
     "cellMetadata": {
      "byteLimit": 2048000,
      "rowLimit": 10000
     },
     "inputWidgets": {},
     "nuid": "3bf4c6f9-f309-4516-88c0-cbbe76e5142c",
     "showTitle": false,
     "tableResultSettingsMap": {},
     "title": ""
    }
   },
   "outputs": [],
   "source": [
    "df_lms_join=df_lms.alias(\"df_lms\"). \\\n",
    "    join(df_Customer.alias(\"df_Customer\"), df_lms.CUSTOMERID == df_Customer.CUSTOMERID). \\\n",
    "    select(\"df_lms.CUSTOMERID\",\"df_Customer.SEX\",\"df_Customer.MARITAL_STATUS\",\"df_Customer.GROSS_INCOME\",\"df_Customer.PRE_JOBYEARS\")"
   ]
  },
  {
   "cell_type": "code",
   "execution_count": 0,
   "metadata": {
    "application/vnd.databricks.v1+cell": {
     "cellMetadata": {
      "byteLimit": 2048000,
      "rowLimit": 10000
     },
     "inputWidgets": {},
     "nuid": "028dfdb8-db80-4291-8ff6-5f03033d3e30",
     "showTitle": false,
     "tableResultSettingsMap": {},
     "title": ""
    }
   },
   "outputs": [
    {
     "output_type": "execute_result",
     "data": {
      "text/html": [
       "<div>\n",
       "<style scoped>\n",
       "    .dataframe tbody tr th:only-of-type {\n",
       "        vertical-align: middle;\n",
       "    }\n",
       "\n",
       "    .dataframe tbody tr th {\n",
       "        vertical-align: top;\n",
       "    }\n",
       "\n",
       "    .dataframe thead th {\n",
       "        text-align: right;\n",
       "    }\n",
       "</style>\n",
       "<table border=\"1\" class=\"dataframe\">\n",
       "  <thead>\n",
       "    <tr style=\"text-align: right;\">\n",
       "      <th></th>\n",
       "      <th>CUSTOMERID</th>\n",
       "      <th>SEX</th>\n",
       "      <th>MARITAL_STATUS</th>\n",
       "      <th>GROSS_INCOME</th>\n",
       "      <th>PRE_JOBYEARS</th>\n",
       "    </tr>\n",
       "  </thead>\n",
       "  <tbody>\n",
       "    <tr>\n",
       "      <th>0</th>\n",
       "      <td>12001000</td>\n",
       "      <td>M</td>\n",
       "      <td>M</td>\n",
       "      <td>198375.22180</td>\n",
       "      <td>8.0</td>\n",
       "    </tr>\n",
       "    <tr>\n",
       "      <th>1</th>\n",
       "      <td>12001002</td>\n",
       "      <td>M</td>\n",
       "      <td>M</td>\n",
       "      <td>0.00000</td>\n",
       "      <td>NaN</td>\n",
       "    </tr>\n",
       "    <tr>\n",
       "      <th>2</th>\n",
       "      <td>12001002</td>\n",
       "      <td>M</td>\n",
       "      <td>M</td>\n",
       "      <td>0.00000</td>\n",
       "      <td>NaN</td>\n",
       "    </tr>\n",
       "    <tr>\n",
       "      <th>3</th>\n",
       "      <td>12001002</td>\n",
       "      <td>M</td>\n",
       "      <td>M</td>\n",
       "      <td>0.00000</td>\n",
       "      <td>NaN</td>\n",
       "    </tr>\n",
       "    <tr>\n",
       "      <th>4</th>\n",
       "      <td>12001002</td>\n",
       "      <td>M</td>\n",
       "      <td>M</td>\n",
       "      <td>0.00000</td>\n",
       "      <td>NaN</td>\n",
       "    </tr>\n",
       "    <tr>\n",
       "      <th>5</th>\n",
       "      <td>12001002</td>\n",
       "      <td>M</td>\n",
       "      <td>M</td>\n",
       "      <td>0.00000</td>\n",
       "      <td>NaN</td>\n",
       "    </tr>\n",
       "    <tr>\n",
       "      <th>6</th>\n",
       "      <td>12001004</td>\n",
       "      <td>M</td>\n",
       "      <td>M</td>\n",
       "      <td>187342.19900</td>\n",
       "      <td>NaN</td>\n",
       "    </tr>\n",
       "    <tr>\n",
       "      <th>7</th>\n",
       "      <td>12001004</td>\n",
       "      <td>M</td>\n",
       "      <td>M</td>\n",
       "      <td>187342.19900</td>\n",
       "      <td>NaN</td>\n",
       "    </tr>\n",
       "    <tr>\n",
       "      <th>8</th>\n",
       "      <td>12001005</td>\n",
       "      <td>M</td>\n",
       "      <td>M</td>\n",
       "      <td>53536.20823</td>\n",
       "      <td>NaN</td>\n",
       "    </tr>\n",
       "    <tr>\n",
       "      <th>9</th>\n",
       "      <td>12001005</td>\n",
       "      <td>M</td>\n",
       "      <td>M</td>\n",
       "      <td>53536.20823</td>\n",
       "      <td>NaN</td>\n",
       "    </tr>\n",
       "  </tbody>\n",
       "</table>\n",
       "</div>"
      ],
      "text/plain": [
       "  CUSTOMERID SEX MARITAL_STATUS  GROSS_INCOME  PRE_JOBYEARS\n",
       "0   12001000   M              M  198375.22180           8.0\n",
       "1   12001002   M              M       0.00000           NaN\n",
       "2   12001002   M              M       0.00000           NaN\n",
       "3   12001002   M              M       0.00000           NaN\n",
       "4   12001002   M              M       0.00000           NaN\n",
       "5   12001002   M              M       0.00000           NaN\n",
       "6   12001004   M              M  187342.19900           NaN\n",
       "7   12001004   M              M  187342.19900           NaN\n",
       "8   12001005   M              M   53536.20823           NaN\n",
       "9   12001005   M              M   53536.20823           NaN"
      ]
     },
     "execution_count": 14,
     "metadata": {},
     "output_type": "execute_result"
    }
   ],
   "source": [
    "df_lms_join.limit(10).toPandas()"
   ]
  },
  {
   "cell_type": "markdown",
   "metadata": {
    "application/vnd.databricks.v1+cell": {
     "cellMetadata": {},
     "inputWidgets": {},
     "nuid": "d767d59d-cbef-4018-b614-efb5eb8f6d67",
     "showTitle": false,
     "tableResultSettingsMap": {},
     "title": ""
    }
   },
   "source": [
    "![image.png](attachment:image.png)"
   ]
  },
  {
   "cell_type": "markdown",
   "metadata": {
    "application/vnd.databricks.v1+cell": {
     "cellMetadata": {},
     "inputWidgets": {},
     "nuid": "50116b7b-3b7e-4357-b127-23b1e9615f3c",
     "showTitle": false,
     "tableResultSettingsMap": {},
     "title": ""
    }
   },
   "source": [
    "### What is Spark Logical Plan?\n",
    "- Logical Plan refers to an abstract of all transformation steps that need to be executed\n",
    "- However, it does not provide details about the Driver(Master Node) or Executor (Workder Node)\n",
    "- This helps us to achieve the most optimized version from the user expression.\n",
    "- The Logical Plan is divided into three parts:\n",
    "![image.png](attachment:image.png)"
   ]
  },
  {
   "cell_type": "markdown",
   "metadata": {
    "application/vnd.databricks.v1+cell": {
     "cellMetadata": {},
     "inputWidgets": {},
     "nuid": "da347035-de3c-40a2-95b4-f5a6c48f01c4",
     "showTitle": false,
     "tableResultSettingsMap": {},
     "title": ""
    }
   },
   "source": [
    "- We should run the ‘explain’ command with a true argument to see both physical and logical plans"
   ]
  },
  {
   "cell_type": "markdown",
   "metadata": {
    "application/vnd.databricks.v1+cell": {
     "cellMetadata": {},
     "inputWidgets": {},
     "nuid": "5c90d6aa-9218-4790-81f2-cbd17b9b4e71",
     "showTitle": false,
     "tableResultSettingsMap": {},
     "title": ""
    }
   },
   "source": [
    "### Merge Filters\n",
    "- Spark performs optimization by itself in the optimized logical plan\n",
    "- It can figure out that there is no requirement for two filters\n",
    "- Instead, it completes execution in one filter because the same task can be done by using just one filter through the 'and' operator"
   ]
  },
  {
   "cell_type": "markdown",
   "metadata": {
    "application/vnd.databricks.v1+cell": {
     "cellMetadata": {},
     "inputWidgets": {},
     "nuid": "dec01140-0efb-40e6-a747-5d3b70472d4a",
     "showTitle": false,
     "tableResultSettingsMap": {},
     "title": ""
    }
   },
   "source": [
    "### First part: Unresolved/Parsed Logical plan generation"
   ]
  },
  {
   "cell_type": "markdown",
   "metadata": {
    "application/vnd.databricks.v1+cell": {
     "cellMetadata": {},
     "inputWidgets": {},
     "nuid": "b09de110-01b9-43d8-b979-94bbc5fb92e4",
     "showTitle": false,
     "tableResultSettingsMap": {},
     "title": ""
    }
   },
   "source": [
    "- The first step contributes to the generation of an Unresolved Logical Plan.\n",
    "- We call it an Unresolved Logical Plan because the column or table names may be inaccurate or may not even exist even when we have a valid code and correct syntax\n",
    "- This plan is generated post verifying that everything is correct on the syntactic field\n",
    "- Next, the first version of a logical plan is produced where the relation name and columns are not specifically resolved after the semantic analysis is executed"
   ]
  },
  {
   "cell_type": "markdown",
   "metadata": {
    "application/vnd.databricks.v1+cell": {
     "cellMetadata": {},
     "inputWidgets": {},
     "nuid": "81ea5c1a-577d-4357-a10d-7701ac11c3d9",
     "showTitle": false,
     "tableResultSettingsMap": {},
     "title": ""
    }
   },
   "source": [
    "![image.png](attachment:image.png)"
   ]
  },
  {
   "cell_type": "markdown",
   "metadata": {
    "application/vnd.databricks.v1+cell": {
     "cellMetadata": {},
     "inputWidgets": {},
     "nuid": "0eb848c2-f9b9-4d35-86e0-e849a7ae8b72",
     "showTitle": false,
     "tableResultSettingsMap": {},
     "title": ""
    }
   },
   "source": [
    "### Second part: Resolved/Analyzed Logical plan generation\n",
    "- After the generation of an unresolved plan, it will resolve everything that is unresolved yet by accessing an internal Spark structure mentioned as “Catalog” in the previous schema.\n",
    "- “Catalog” is a repository of Spark table, DataFrame and DataSet. The data from meta-store is pulled into an internal storage component of Spark (also know as Catalog).\n",
    "- “Analyzer” helps us to resolve/verify the semantics, column name, table name by cross-checking with the Catalog\n",
    "- The analyzer can reject the Unresolved Logical Plan when it is not able to resolve them (column name, table name, etc.). It creates a Resolved Logical Plan if it is able to resolve them.\n",
    "- Upon successful completion of everything, the plan is marked as “Analyzed Logical Plan”"
   ]
  },
  {
   "cell_type": "markdown",
   "metadata": {
    "application/vnd.databricks.v1+cell": {
     "cellMetadata": {},
     "inputWidgets": {},
     "nuid": "d8f09030-b869-43f6-b5bb-939dfc99bfb9",
     "showTitle": false,
     "tableResultSettingsMap": {},
     "title": ""
    }
   },
   "source": [
    "### Third part: Optimized logical Plan:\n",
    "- The Resolved Logical plan will be passed on to a “Catalyst Optimizer” after it is generated\n",
    "- Catalyst Optimizer will try to optimize the plan after applying its own rule. Basically, the Catalyst Optimizer is responsible to perform logical optimization. For example,\n",
    "    - It checks all the tasks which can be performed and computed together in one Stage.\n",
    "    - It decides the order of execution of queries for better performance in the case of a multi-join query.\n",
    "    - It tries to optimize the query by evaluating the filter clause before any project."
   ]
  },
  {
   "cell_type": "markdown",
   "metadata": {
    "application/vnd.databricks.v1+cell": {
     "cellMetadata": {},
     "inputWidgets": {},
     "nuid": "a7f47d37-d269-4ad5-a962-910247977676",
     "showTitle": false,
     "tableResultSettingsMap": {},
     "title": ""
    }
   },
   "source": [
    "### What is a Spark Physical Plan?\n",
    "- Physical Plan is an internal enhancement or optimization for Spark\n",
    "- Suppose, there’s a join query between two tables\n",
    "- In that join operation, one of them is a large table and the other one is a small table with a different number of partitions scattered in different nodes across the cluster\n",
    "- Spark decides which partitions should be joined at the start (order of joining), the type of join, etc. for better optimization.\n",
    "- Physical Plan is limited to Spark operation and for this, it will do an evaluation of multiple physical plans and finalize the suitable optimal physical plan. And ultimately, the finest Physical Plan runs.\n",
    "- Once the finest Physical Plan is selected, executable code (DAG of RDDs) for the query is created which needs to be executed in a distributed manner on the cluster."
   ]
  },
  {
   "cell_type": "markdown",
   "metadata": {
    "application/vnd.databricks.v1+cell": {
     "cellMetadata": {},
     "inputWidgets": {},
     "nuid": "aae369f3-68a9-490a-b86e-662b50427bc8",
     "showTitle": false,
     "tableResultSettingsMap": {},
     "title": ""
    }
   },
   "source": [
    "![image.png](attachment:image.png)"
   ]
  },
  {
   "cell_type": "markdown",
   "metadata": {
    "application/vnd.databricks.v1+cell": {
     "cellMetadata": {},
     "inputWidgets": {},
     "nuid": "e7154e20-0b5a-4d24-9bc9-6051183915f0",
     "showTitle": false,
     "tableResultSettingsMap": {},
     "title": ""
    }
   },
   "source": [
    "![image.png](attachment:image.png)"
   ]
  },
  {
   "cell_type": "markdown",
   "metadata": {
    "application/vnd.databricks.v1+cell": {
     "cellMetadata": {},
     "inputWidgets": {},
     "nuid": "b2a890aa-e084-4bd7-8485-7f8f241cf26d",
     "showTitle": false,
     "tableResultSettingsMap": {},
     "title": ""
    }
   },
   "source": [
    "### Physical plan is:\n",
    "- A bridge between Logical Plans and RDDs\n",
    "- It is a tree\n",
    "- Contains more specific description of how things (execution) should happen (specific choice of algorithm)"
   ]
  },
  {
   "cell_type": "markdown",
   "metadata": {
    "application/vnd.databricks.v1+cell": {
     "cellMetadata": {},
     "inputWidgets": {},
     "nuid": "698040d7-f453-4be1-8947-e8de719cfbf3",
     "showTitle": false,
     "tableResultSettingsMap": {},
     "title": ""
    }
   },
   "source": [
    "### Cost Model\n",
    "- Catalyst Optimizer in Spark generates different kinds of execution strategies/plans and then compare them with “Cost Model”.\n",
    "- “Cost Model” estimates the execution time and resources required by each strategy/plan\n",
    "- Finally, whichever strategy/plan is going to be the best optimal one is selected as the “Best Physical Plan”."
   ]
  },
  {
   "cell_type": "markdown",
   "metadata": {
    "application/vnd.databricks.v1+cell": {
     "cellMetadata": {},
     "inputWidgets": {},
     "nuid": "7bb249ab-4da7-4bb5-b316-16f4e7ac0bc2",
     "showTitle": false,
     "tableResultSettingsMap": {},
     "title": ""
    }
   },
   "source": []
  },
  {
   "cell_type": "markdown",
   "metadata": {
    "application/vnd.databricks.v1+cell": {
     "cellMetadata": {},
     "inputWidgets": {},
     "nuid": "d9fbdc21-482a-410a-90a9-a8708e70a727",
     "showTitle": false,
     "tableResultSettingsMap": {},
     "title": ""
    }
   },
   "source": [
    "### How Apache Spark builds a DAG and Physical Execution Plan ?\n",
    "- User submits a spark application to the Apache Spark.\n",
    "- Driver is the module that takes in the application from Spark side.\n",
    "- Driver identifies transformations and actions present in the spark application. These identifications are the tasks.\n",
    "- Based on the flow of program, these tasks are arranged in a graph like structure with directed flow of execution from task to task forming no loops in the graph (also called DAG). DAG is pure logical.\n",
    "- This logical DAG is converted to Physical Execution Plan. Physical Execution Plan contains stages.\n",
    "- Some of the subsequent tasks in DAG could be combined together in a single stage. Based on the nature of transformations, \n",
    "- Driver sets stage boundaries\n",
    "- There are two transformations, namely narrow transformations and wide transformations\n",
    "- Narrow transformations : Transformations like Map and Filter that does not require the data to be shuffled across the partitions\n",
    "- Wide transformations : Transformations like ReduceByKey that does require the data to be shuffled across the partitions. \n",
    "- Transformation that requires data shuffling between partitions, i.e., a wide transformation results in stage boundary.\n",
    "- DAG Scheduler creates a Physical Execution Plan from the logical DAG. Physical Execution Plan contains tasks and are bundled to be sent to nodes of cluster."
   ]
  },
  {
   "cell_type": "markdown",
   "metadata": {
    "application/vnd.databricks.v1+cell": {
     "cellMetadata": {},
     "inputWidgets": {},
     "nuid": "191fdc19-4466-4fa2-9927-4003bba50f84",
     "showTitle": false,
     "tableResultSettingsMap": {},
     "title": ""
    }
   },
   "source": [
    "## How to generate execution plans"
   ]
  },
  {
   "cell_type": "markdown",
   "metadata": {
    "application/vnd.databricks.v1+cell": {
     "cellMetadata": {},
     "inputWidgets": {},
     "nuid": "bc683369-d87d-451b-8c8b-d24ffee7feae",
     "showTitle": false,
     "tableResultSettingsMap": {},
     "title": ""
    }
   },
   "source": [
    "### First Option"
   ]
  },
  {
   "cell_type": "code",
   "execution_count": 0,
   "metadata": {
    "application/vnd.databricks.v1+cell": {
     "cellMetadata": {
      "byteLimit": 2048000,
      "rowLimit": 10000
     },
     "inputWidgets": {},
     "nuid": "230bb98d-c627-40fa-9bd1-d44fb5a9ad24",
     "showTitle": false,
     "tableResultSettingsMap": {},
     "title": ""
    }
   },
   "outputs": [
    {
     "output_type": "stream",
     "name": "stdout",
     "output_type": "stream",
     "text": [
      "== Parsed Logical Plan ==\n'Project ['df_lms.CUSTOMERID, 'df_Customer.SEX, 'df_Customer.MARITAL_STATUS, 'df_Customer.GROSS_INCOME, 'df_Customer.PRE_JOBYEARS]\n+- Join Inner, (cast(CUSTOMERID#4532 as int) = CUSTOMERID#4659)\n   :- SubqueryAlias df_lms\n   :  +- Repartition 6, true\n   :     +- Relation [AGREEMENTID#4531,CUSTOMERID#4532,LOAN_AMT#4533,NET_DISBURSED_AMT#4534,INTEREST_START_DATE#4535,CURRENT_ROI#4536,ORIGNAL_ROI#4537,CURRENT_TENOR#4538,ORIGNAL_TENOR#4539,DUEDAY#4540,AUTHORIZATIONDATE#4541,CITY#4542,PRE_EMI_DUEAMT#4543,PRE_EMI_RECEIVED_AMT#4544,PRE_EMI_OS_AMOUNT#4545,EMI_DUEAMT#4546,EMI_RECEIVED_AMT#4547,EMI_OS_AMOUNT#4548,EXCESS_AVAILABLE#4549,EXCESS_ADJUSTED_AMT#4550,BALANCE_EXCESS#4551,NET_RECEIVABLE#4552,OUTSTANDING_PRINCIPAL#4553,PAID_PRINCIPAL#4554,... 14 more fields] csv\n   +- SubqueryAlias df_Customer\n      +- Relation [CUSTOMERID#4659,CUST_CONSTTYPE_ID#4660,CUST_CATEGORYID#4661,PROFESSION#4662,AGE#4663,SEX#4664,MARITAL_STATUS#4665,QUALIFICATION#4666,NO_OF_DEPENDENT#4667,OCCUPATION#4668,POSITION#4669,GROSS_INCOME#4670,PRE_JOBYEARS#4671,NETTAKEHOMEINCOME#4672,BRANCH_PINCODE#4673] csv\n\n== Analyzed Logical Plan ==\nCUSTOMERID: string, SEX: string, MARITAL_STATUS: string, GROSS_INCOME: double, PRE_JOBYEARS: int\nProject [CUSTOMERID#4532, SEX#4664, MARITAL_STATUS#4665, GROSS_INCOME#4670, PRE_JOBYEARS#4671]\n+- Join Inner, (cast(CUSTOMERID#4532 as int) = CUSTOMERID#4659)\n   :- SubqueryAlias df_lms\n   :  +- Repartition 6, true\n   :     +- Relation [AGREEMENTID#4531,CUSTOMERID#4532,LOAN_AMT#4533,NET_DISBURSED_AMT#4534,INTEREST_START_DATE#4535,CURRENT_ROI#4536,ORIGNAL_ROI#4537,CURRENT_TENOR#4538,ORIGNAL_TENOR#4539,DUEDAY#4540,AUTHORIZATIONDATE#4541,CITY#4542,PRE_EMI_DUEAMT#4543,PRE_EMI_RECEIVED_AMT#4544,PRE_EMI_OS_AMOUNT#4545,EMI_DUEAMT#4546,EMI_RECEIVED_AMT#4547,EMI_OS_AMOUNT#4548,EXCESS_AVAILABLE#4549,EXCESS_ADJUSTED_AMT#4550,BALANCE_EXCESS#4551,NET_RECEIVABLE#4552,OUTSTANDING_PRINCIPAL#4553,PAID_PRINCIPAL#4554,... 14 more fields] csv\n   +- SubqueryAlias df_Customer\n      +- Relation [CUSTOMERID#4659,CUST_CONSTTYPE_ID#4660,CUST_CATEGORYID#4661,PROFESSION#4662,AGE#4663,SEX#4664,MARITAL_STATUS#4665,QUALIFICATION#4666,NO_OF_DEPENDENT#4667,OCCUPATION#4668,POSITION#4669,GROSS_INCOME#4670,PRE_JOBYEARS#4671,NETTAKEHOMEINCOME#4672,BRANCH_PINCODE#4673] csv\n\n== Optimized Logical Plan ==\nProject [CUSTOMERID#4532, SEX#4664, MARITAL_STATUS#4665, GROSS_INCOME#4670, PRE_JOBYEARS#4671]\n+- Join Inner, (cast(CUSTOMERID#4532 as int) = CUSTOMERID#4659)\n   :- Repartition 6, true\n   :  +- Project [CUSTOMERID#4532]\n   :     +- Filter isnotnull(CUSTOMERID#4532)\n   :        +- Relation [AGREEMENTID#4531,CUSTOMERID#4532,LOAN_AMT#4533,NET_DISBURSED_AMT#4534,INTEREST_START_DATE#4535,CURRENT_ROI#4536,ORIGNAL_ROI#4537,CURRENT_TENOR#4538,ORIGNAL_TENOR#4539,DUEDAY#4540,AUTHORIZATIONDATE#4541,CITY#4542,PRE_EMI_DUEAMT#4543,PRE_EMI_RECEIVED_AMT#4544,PRE_EMI_OS_AMOUNT#4545,EMI_DUEAMT#4546,EMI_RECEIVED_AMT#4547,EMI_OS_AMOUNT#4548,EXCESS_AVAILABLE#4549,EXCESS_ADJUSTED_AMT#4550,BALANCE_EXCESS#4551,NET_RECEIVABLE#4552,OUTSTANDING_PRINCIPAL#4553,PAID_PRINCIPAL#4554,... 14 more fields] csv\n   +- Project [CUSTOMERID#4659, SEX#4664, MARITAL_STATUS#4665, GROSS_INCOME#4670, PRE_JOBYEARS#4671]\n      +- Filter isnotnull(CUSTOMERID#4659)\n         +- Relation [CUSTOMERID#4659,CUST_CONSTTYPE_ID#4660,CUST_CATEGORYID#4661,PROFESSION#4662,AGE#4663,SEX#4664,MARITAL_STATUS#4665,QUALIFICATION#4666,NO_OF_DEPENDENT#4667,OCCUPATION#4668,POSITION#4669,GROSS_INCOME#4670,PRE_JOBYEARS#4671,NETTAKEHOMEINCOME#4672,BRANCH_PINCODE#4673] csv\n\n== Physical Plan ==\nAdaptiveSparkPlan isFinalPlan=false\n+- == Initial Plan ==\n   ColumnarToRow\n   +- PhotonResultStage\n      +- PhotonProject [CUSTOMERID#4532, SEX#4664, MARITAL_STATUS#4665, GROSS_INCOME#4670, PRE_JOBYEARS#4671]\n         +- PhotonBroadcastHashJoin [cast(CUSTOMERID#4532 as int)], [CUSTOMERID#4659], Inner, BuildRight, false, true\n            :- PhotonShuffleExchangeSource\n            :  +- PhotonShuffleMapStage\n            :     +- PhotonShuffleExchangeSink RoundRobinPartitioning(6)\n            :        +- PhotonSort [CUSTOMERID#4532 ASC NULLS FIRST]\n            :           +- PhotonFilter isnotnull(CUSTOMERID#4532)\n            :              +- PhotonRowToColumnar\n            :                 +- FileScan csv [CUSTOMERID#4532] Batched: false, DataFilters: [isnotnull(CUSTOMERID#4532)], Format: CSV, Location: InMemoryFileIndex(1 paths)[dbfs:/mnt/data/data/Predict-Forclosure/Foreclosure-Prediction-Dataset/..., PartitionFilters: [], PushedFilters: [IsNotNull(CUSTOMERID)], ReadSchema: struct<CUSTOMERID:string>\n            +- PhotonShuffleExchangeSource\n               +- PhotonShuffleMapStage\n                  +- PhotonShuffleExchangeSink SinglePartition\n                     +- PhotonFilter isnotnull(CUSTOMERID#4659)\n                        +- PhotonRowToColumnar\n                           +- FileScan csv [CUSTOMERID#4659,SEX#4664,MARITAL_STATUS#4665,GROSS_INCOME#4670,PRE_JOBYEARS#4671] Batched: false, DataFilters: [isnotnull(CUSTOMERID#4659)], Format: CSV, Location: InMemoryFileIndex(1 paths)[dbfs:/mnt/data/data/Predict-Forclosure/Foreclosure-Prediction-Dataset/..., PartitionFilters: [], PushedFilters: [IsNotNull(CUSTOMERID)], ReadSchema: struct<CUSTOMERID:int,SEX:string,MARITAL_STATUS:string,GROSS_INCOME:double,PRE_JOBYEARS:int>\n\n== Photon Explanation ==\nThe query is fully supported by Photon.\n"
     ]
    }
   ],
   "source": [
    "df_lms_join.explain(True)"
   ]
  },
  {
   "cell_type": "markdown",
   "metadata": {
    "application/vnd.databricks.v1+cell": {
     "cellMetadata": {},
     "inputWidgets": {},
     "nuid": "fcb41214-a8e9-43d1-80ff-d728e98bb8ab",
     "showTitle": false,
     "tableResultSettingsMap": {},
     "title": ""
    }
   },
   "source": [
    "### Second Option\n",
    "- The second option to see the plan is going to the SQL tab in Spark UI where are lists of all running and finished queries\n",
    "- By clicking on your query you will see the graphical representation of the physical plan"
   ]
  },
  {
   "cell_type": "markdown",
   "metadata": {
    "application/vnd.databricks.v1+cell": {
     "cellMetadata": {},
     "inputWidgets": {},
     "nuid": "01a24cf8-5151-438a-bf53-cfe1902c1496",
     "showTitle": false,
     "tableResultSettingsMap": {},
     "title": ""
    }
   },
   "source": [
    "![image.png](attachment:image.png)"
   ]
  },
  {
   "cell_type": "markdown",
   "metadata": {
    "application/vnd.databricks.v1+cell": {
     "cellMetadata": {},
     "inputWidgets": {},
     "nuid": "f709c1fb-7d42-4e5c-b035-9ae2c1b12f72",
     "showTitle": false,
     "tableResultSettingsMap": {},
     "title": ""
    }
   },
   "source": [
    "### Difference\n",
    "- The graphical representation has the leaf nodes on the top and the root is at the bottom, while the textual tree is upside down."
   ]
  },
  {
   "cell_type": "markdown",
   "metadata": {
    "application/vnd.databricks.v1+cell": {
     "cellMetadata": {},
     "inputWidgets": {},
     "nuid": "55e8e75b-8bac-4b15-bac3-53edbdcfc615",
     "showTitle": false,
     "tableResultSettingsMap": {},
     "title": ""
    }
   },
   "source": [
    "### CollapseCodegenStages\n",
    "- In the graphical representation of the physical plan, you can see that the operators are grouped into big blue rectangles. \n",
    "- These big rectangles correspond to codegen stages\n",
    "- It is an optimization feature, which takes place in the phase of physical planning\n",
    "- There is a rule called CollapseCodegenStages which is responsible for that and the idea is to take operators that support code generation and collapse it together to speed-up the execution by eliminating virtual function calls\n",
    "- Not all operators support code generation, so some operators (for instance Exchange) are not part of the big rectangles\n",
    "- In our example, there are few codegen stages that correspond to the big rectangles and in the plan output, you can see the id of the codegen stage in the brackets at the operator\n",
    "- Also from the tree, you can tell if an operator supports the codegen or not because there is an asterisk with corresponding stage codegen id in the parenthesis if the codegen is supported."
   ]
  },
  {
   "cell_type": "markdown",
   "metadata": {
    "application/vnd.databricks.v1+cell": {
     "cellMetadata": {},
     "inputWidgets": {},
     "nuid": "06d53b0d-9890-4731-9f6a-823489a4eeef",
     "showTitle": false,
     "tableResultSettingsMap": {},
     "title": ""
    }
   },
   "source": [
    "### Scan CSV\n",
    "- Represents reading the data\n",
    "- From the detailed information, you can directly see what columns will be selected from the source\n",
    "- We can also see here two types of filters: PartitionFilters and PushedFilters\n",
    "- PartitionFilters\n",
    "    - Applied on columns by which the datasource is partitioned in the file system.\n",
    "    - These are very important because they allow for skipping the data that we don’t need\n",
    "    - It is always good to check whether the filters are propagated here correctly\n",
    "    - The idea behind this is to read as little data as possible since the I/O is expensive.\n",
    "- PushedFilters\n",
    "    - Filters on fields that can be pushed directly to files"
   ]
  },
  {
   "cell_type": "markdown",
   "metadata": {
    "application/vnd.databricks.v1+cell": {
     "cellMetadata": {},
     "inputWidgets": {},
     "nuid": "2366d027-8bf2-4e33-8367-fa7587ec9b3c",
     "showTitle": false,
     "tableResultSettingsMap": {},
     "title": ""
    }
   },
   "source": [
    "![image.png](attachment:image.png)"
   ]
  },
  {
   "cell_type": "markdown",
   "metadata": {
    "application/vnd.databricks.v1+cell": {
     "cellMetadata": {},
     "inputWidgets": {},
     "nuid": "5d77249a-3fea-434b-bb4d-6b23dee1a008",
     "showTitle": false,
     "tableResultSettingsMap": {},
     "title": ""
    }
   },
   "source": [
    "### Filter\n",
    "- Represents the filtering condition\n",
    "- Very often it doesn’t directly correspond to the filtering condition used in the query\n",
    "- The reason for that is that all the filters are first processed by the Catalyst optimizer which may modify and relocate them. \n",
    "- There are several rules applied to the logical filters before they are converted to a physical operator\n",
    "- Let’s list a couple of the rules here:\n",
    "    - PushDownPredicates — Will push filters closer to the source.\n",
    "    - CombineFilters — combines two neighboring operators into one\n",
    "    - InferFiltersFromConstraints — this rule actually creates a new Filter operator for example from a join condition (from a simple inner join it will create a filter condition joining key is not null).\n",
    "    - PruneFilters — removes redundant filters (for example if a filter always evaluates to True)."
   ]
  },
  {
   "cell_type": "markdown",
   "metadata": {
    "application/vnd.databricks.v1+cell": {
     "cellMetadata": {},
     "inputWidgets": {},
     "nuid": "e08c0703-1061-4f08-b85b-aee162971ae3",
     "showTitle": false,
     "tableResultSettingsMap": {},
     "title": ""
    }
   },
   "source": [
    "### Project\n",
    "- This operator simply represents what columns will be projected (selected)\n",
    "- Each time we call select, withColumn, or drop transformations on a DataFrame, Spark will add the Project operator to the logical plan which is then converted to its counterpart in the physical plan"
   ]
  },
  {
   "cell_type": "markdown",
   "metadata": {
    "application/vnd.databricks.v1+cell": {
     "cellMetadata": {},
     "inputWidgets": {},
     "nuid": "53029098-8e6f-411b-a700-b12531c47a92",
     "showTitle": false,
     "tableResultSettingsMap": {},
     "title": ""
    }
   },
   "source": [
    "### Exchange\n",
    "- Represents shuffle, which is a physical data movement on the cluster\n",
    "- Considered to be quite expensive because it moves the data over the network\n",
    "- The information in the query plan contains also details about how the data will be repartitioned\n",
    "\n",
    "- There are many types of partitioning:\n",
    "    - RoundRobinPartitioning — with this partitioning the data will be distributed randomly into n approximately equally sized partitions, where n is specified by the user in the repartition(n) function\n",
    "    - SinglePartition — with this partitioning all the data are moved to a single partition to a single executor\n",
    "    - RangePartitioning — this partitioning is used when sorting the data, after calling orderBy or sort transformations."
   ]
  },
  {
   "cell_type": "code",
   "execution_count": 0,
   "metadata": {
    "application/vnd.databricks.v1+cell": {
     "cellMetadata": {
      "byteLimit": 2048000,
      "rowLimit": 10000
     },
     "inputWidgets": {},
     "nuid": "12345337-9f5b-4e1d-b2f7-0cb72c9d2627",
     "showTitle": false,
     "tableResultSettingsMap": {},
     "title": ""
    }
   },
   "outputs": [
    {
     "output_type": "execute_result",
     "data": {
      "text/plain": [
       "['CUSTOMERID',\n",
       " 'CUST_CONSTTYPE_ID',\n",
       " 'CUST_CATEGORYID',\n",
       " 'PROFESSION',\n",
       " 'AGE',\n",
       " 'SEX',\n",
       " 'MARITAL_STATUS',\n",
       " 'QUALIFICATION',\n",
       " 'NO_OF_DEPENDENT',\n",
       " 'OCCUPATION',\n",
       " 'POSITION',\n",
       " 'GROSS_INCOME',\n",
       " 'PRE_JOBYEARS',\n",
       " 'NETTAKEHOMEINCOME',\n",
       " 'BRANCH_PINCODE']"
      ]
     },
     "execution_count": 16,
     "metadata": {},
     "output_type": "execute_result"
    }
   ],
   "source": [
    "df_Customer.columns"
   ]
  },
  {
   "cell_type": "code",
   "execution_count": 0,
   "metadata": {
    "application/vnd.databricks.v1+cell": {
     "cellMetadata": {
      "byteLimit": 2048000,
      "rowLimit": 10000
     },
     "inputWidgets": {},
     "nuid": "1cb20654-0d18-4b6e-bd08-c5f415dfdf7f",
     "showTitle": false,
     "tableResultSettingsMap": {},
     "title": ""
    }
   },
   "outputs": [],
   "source": [
    "from pyspark.sql.functions import count"
   ]
  },
  {
   "cell_type": "code",
   "execution_count": 0,
   "metadata": {
    "application/vnd.databricks.v1+cell": {
     "cellMetadata": {
      "byteLimit": 2048000,
      "rowLimit": 10000
     },
     "inputWidgets": {},
     "nuid": "cf293d6b-3657-4d5f-9013-7efad43605cc",
     "showTitle": false,
     "tableResultSettingsMap": {},
     "title": ""
    }
   },
   "outputs": [
    {
     "output_type": "stream",
     "name": "stdout",
     "output_type": "stream",
     "text": [
      "== Physical Plan ==\nAdaptiveSparkPlan isFinalPlan=false\n+- == Initial Plan ==\n   ColumnarToRow\n   +- PhotonResultStage\n      +- PhotonGroupingAgg(keys=[POSITION#4669], functions=[finalmerge_count(merge count#4927L) AS count(NO_OF_DEPENDENT#4667)#4922L])\n         +- PhotonShuffleExchangeSource\n            +- PhotonShuffleMapStage\n               +- PhotonShuffleExchangeSink hashpartitioning(POSITION#4669, 200)\n                  +- PhotonGroupingAgg(keys=[POSITION#4669], functions=[partial_count(NO_OF_DEPENDENT#4667) AS count#4927L])\n                     +- PhotonRowToColumnar\n                        +- FileScan csv [NO_OF_DEPENDENT#4667,POSITION#4669] Batched: false, DataFilters: [], Format: CSV, Location: InMemoryFileIndex(1 paths)[dbfs:/mnt/data/data/Predict-Forclosure/Foreclosure-Prediction-Dataset/..., PartitionFilters: [], PushedFilters: [], ReadSchema: struct<NO_OF_DEPENDENT:int,POSITION:string>\n\n\n== Photon Explanation ==\nThe query is fully supported by Photon.\n"
     ]
    }
   ],
   "source": [
    "df_Customer.groupBy(\"POSITION\").agg(count('NO_OF_DEPENDENT')).explain()"
   ]
  },
  {
   "cell_type": "markdown",
   "metadata": {
    "application/vnd.databricks.v1+cell": {
     "cellMetadata": {},
     "inputWidgets": {},
     "nuid": "2c262eec-1cd1-4c67-9fc2-ced7ed615ac2",
     "showTitle": false,
     "tableResultSettingsMap": {},
     "title": ""
    }
   },
   "source": [
    "![image.png](attachment:image.png)"
   ]
  },
  {
   "cell_type": "markdown",
   "metadata": {
    "application/vnd.databricks.v1+cell": {
     "cellMetadata": {},
     "inputWidgets": {},
     "nuid": "f2634303-3739-4ab8-b8e8-5a6531605cf0",
     "showTitle": false,
     "tableResultSettingsMap": {},
     "title": ""
    }
   },
   "source": [
    "### HashAggregate\n",
    "- Represents data aggregation\n",
    "- It usually comes in pair of two operators which may or may not be divided by an Exchange\n",
    "- The reason for having two HashAggregate operators is that the first one does a partial aggregation, which aggregates separately each partition on each executor"
   ]
  },
  {
   "cell_type": "markdown",
   "metadata": {
    "application/vnd.databricks.v1+cell": {
     "cellMetadata": {},
     "inputWidgets": {},
     "nuid": "c1a27cba-0bcc-42e0-a185-e6da73088e9f",
     "showTitle": false,
     "tableResultSettingsMap": {},
     "title": ""
    }
   },
   "source": [
    "### BroadcastHashJoin & BroadcastExchange\n",
    "- The BroadcastHashJoin (BHJ) is an operator that represents a specific joining algorithm\n",
    "- Apart from this one, there are also other joining algorithms available in Spark such as SortMergeJoin or ShuffleHashJoin\n",
    "- BHJ always comes in a pair with BroadcastExchange which is an operator that represents the broadcasted shuffle — the data will be collected to the driver and then send over to each executor where it will be available for the join."
   ]
  },
  {
   "cell_type": "markdown",
   "metadata": {
    "application/vnd.databricks.v1+cell": {
     "cellMetadata": {},
     "inputWidgets": {},
     "nuid": "4edf04d6-18a9-4a83-bb6a-a998f12bec47",
     "showTitle": false,
     "tableResultSettingsMap": {},
     "title": ""
    }
   },
   "source": [
    "### And how AQE (Adaptive Query Execution) interact with this stuff ???\n",
    "- AQE is a new feature in Spark 3.0 which enables plan changes at runtime.\n",
    "- It collects statistics during plan execution and if Spark detects better plan during execution, it changes them at runtime.\n",
    "- If we put this on an update of the catalyst Optimizer schema, it will give something like that:\n"
   ]
  },
  {
   "cell_type": "markdown",
   "metadata": {
    "application/vnd.databricks.v1+cell": {
     "cellMetadata": {},
     "inputWidgets": {},
     "nuid": "5feb879f-0629-4772-8dd5-3e6bd688d66c",
     "showTitle": false,
     "tableResultSettingsMap": {},
     "title": ""
    }
   },
   "source": [
    "![image.png](attachment:image.png)"
   ]
  },
  {
   "cell_type": "markdown",
   "metadata": {
    "application/vnd.databricks.v1+cell": {
     "cellMetadata": {},
     "inputWidgets": {},
     "nuid": "b95e1900-aa45-4ddd-96af-27ed278464c5",
     "showTitle": false,
     "tableResultSettingsMap": {},
     "title": ""
    }
   },
   "source": [
    "- However, any changes decided during DAG execution won’t be displayed after calling explain() function\n",
    "- If you want to see these changes, you will have to explore Spark UI and tracking skew partitions splits, joins changes etc.\n",
    "- For example, if you enable AQE (which is not enabled by default), explain call will produce a hint in the physical plan display:"
   ]
  },
  {
   "cell_type": "markdown",
   "metadata": {
    "application/vnd.databricks.v1+cell": {
     "cellMetadata": {},
     "inputWidgets": {},
     "nuid": "a54e4f72-e6a6-4d18-8914-fc144c7c8b9b",
     "showTitle": false,
     "tableResultSettingsMap": {},
     "title": ""
    }
   },
   "source": [
    "![image.png](attachment:image.png)"
   ]
  },
  {
   "cell_type": "markdown",
   "metadata": {
    "application/vnd.databricks.v1+cell": {
     "cellMetadata": {},
     "inputWidgets": {},
     "nuid": "67a55fbf-0ea7-4f5a-b5e1-a55fa86d6edf",
     "showTitle": false,
     "tableResultSettingsMap": {},
     "title": ""
    }
   },
   "source": [
    "- In the explain output, you are hinted this physical plan is not the final plan, but if you have a look at the Spark UI, you will see that the SQL query plan is the final plan and optionally if the plan has been modified:"
   ]
  },
  {
   "cell_type": "markdown",
   "metadata": {
    "application/vnd.databricks.v1+cell": {
     "cellMetadata": {},
     "inputWidgets": {},
     "nuid": "5ce9ed2d-0926-4181-a9d2-d4a0a3f1b473",
     "showTitle": false,
     "tableResultSettingsMap": {},
     "title": ""
    }
   },
   "source": [
    "![image.png](attachment:image.png)"
   ]
  },
  {
   "cell_type": "markdown",
   "metadata": {
    "application/vnd.databricks.v1+cell": {
     "cellMetadata": {},
     "inputWidgets": {},
     "nuid": "957f3320-0161-4d98-883c-686f81bdd01f",
     "showTitle": false,
     "tableResultSettingsMap": {},
     "title": ""
    }
   },
   "source": [
    "### Whole-Stage Java Code Generation (aka Whole-Stage CodeGen)\n",
    "- A physical query optimization in Spark SQL that fuses multiple physical operators (as a subtree of plans that support code generation) together into a single Java function.\n",
    "- Whole-Stage Java Code Generation improves the execution performance of a query by collapsing a query tree into a single optimized function that eliminates virtual function calls and leverages CPU registers for intermediate data."
   ]
  },
  {
   "cell_type": "markdown",
   "metadata": {
    "application/vnd.databricks.v1+cell": {
     "cellMetadata": {},
     "inputWidgets": {},
     "nuid": "ac0a45ce-59f5-48ff-b3f6-90a97968c9e4",
     "showTitle": false,
     "tableResultSettingsMap": {},
     "title": ""
    }
   },
   "source": [
    "### FileScanRDD\n",
    "- FileScan represents reading the data from a file.\n",
    "- It is  given FilePartitions that are custom RDD partitions with PartitionedFiles (file blocks)\n",
    "- In our scenario, the CSV file is read\n",
    "\n",
    "![image-2.png](attachment:image-2.png)"
   ]
  },
  {
   "cell_type": "markdown",
   "metadata": {
    "application/vnd.databricks.v1+cell": {
     "cellMetadata": {},
     "inputWidgets": {},
     "nuid": "f64c79ac-88d1-491e-90c7-a65848b96b3c",
     "showTitle": false,
     "tableResultSettingsMap": {},
     "title": ""
    }
   },
   "source": [
    "### MapPartitionsRDD\n",
    "- Will be created when you use map Partition transformation\n",
    "- Has exactly one-to-one narrow dependency\n",
    "- MapPartitionsRDD is the result of the following transformations:\n",
    "    - map\n",
    "    - flatMap\n",
    "    - filter"
   ]
  },
  {
   "cell_type": "markdown",
   "metadata": {
    "application/vnd.databricks.v1+cell": {
     "cellMetadata": {},
     "inputWidgets": {},
     "nuid": "6e6ef6af-50a2-4786-8d66-2561e8f99fbc",
     "showTitle": false,
     "tableResultSettingsMap": {},
     "title": ""
    }
   },
   "source": [
    "### SQLExecutionRDD\n",
    "- Spark property that is used to track multiple Spark jobs that should all together constitute a single structured query execution. "
   ]
  },
  {
   "cell_type": "markdown",
   "metadata": {
    "application/vnd.databricks.v1+cell": {
     "cellMetadata": {},
     "inputWidgets": {},
     "nuid": "cf9e99e8-d4b5-45fa-aeb0-c8ba97021101",
     "showTitle": false,
     "tableResultSettingsMap": {},
     "title": ""
    }
   },
   "source": [
    "### DeserializeToObject:\n",
    "- With the DataFrame API, a lot of operators work on InternalRow, the optimized representation of a row into memory\n",
    "- But the MapPartitions operator works on a standard Scala object\n",
    "- We need to use an operator, DeserializeToObject, to convert data from an InternalRow to a Dataframe object."
   ]
  },
  {
   "cell_type": "markdown",
   "metadata": {
    "application/vnd.databricks.v1+cell": {
     "cellMetadata": {},
     "inputWidgets": {},
     "nuid": "cfbf6e0c-1fb7-4a6e-9823-36fd4897fee5",
     "showTitle": false,
     "tableResultSettingsMap": {},
     "title": ""
    }
   },
   "source": [
    "### SerializeFromObject\n",
    "- This operator is used to go back to the DataFrame world."
   ]
  },
  {
   "cell_type": "markdown",
   "metadata": {
    "application/vnd.databricks.v1+cell": {
     "cellMetadata": {},
     "inputWidgets": {},
     "nuid": "26fff1a4-a39b-46d2-afc3-c20fee4c61f7",
     "showTitle": false,
     "tableResultSettingsMap": {},
     "title": ""
    }
   },
   "source": [
    "### treeAggregate\n",
    "- In case of treeAggregate imagine the follow n-ary tree that has all the partitions at its leaves and the root will contain the final reduced value\n",
    "\n",
    "![image.png](attachment:image.png)"
   ]
  },
  {
   "cell_type": "code",
   "execution_count": 0,
   "metadata": {
    "application/vnd.databricks.v1+cell": {
     "cellMetadata": {},
     "inputWidgets": {},
     "nuid": "08fa2ed8-978d-43ff-a20c-a2c8d4b20909",
     "showTitle": false,
     "tableResultSettingsMap": {},
     "title": ""
    }
   },
   "outputs": [],
   "source": []
  }
 ],
 "metadata": {
  "application/vnd.databricks.v1+notebook": {
   "computePreferences": null,
   "dashboards": [],
   "environmentMetadata": null,
   "language": "python",
   "notebookMetadata": {
    "pythonIndentUnit": 4
   },
   "notebookName": "05-Query-Plans",
   "widgets": {}
  },
  "kernelspec": {
   "display_name": "Python 3",
   "language": "python",
   "name": "python3"
  },
  "language_info": {
   "name": "python"
  }
 },
 "nbformat": 4,
 "nbformat_minor": 0
}